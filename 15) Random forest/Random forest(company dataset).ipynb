{
 "cells": [
  {
   "cell_type": "markdown",
   "id": "716ccf76",
   "metadata": {},
   "source": [
    "# Problem Statement:\n",
    "A cloth manufacturing company is interested to know about the segment or attributes causes high sale."
   ]
  },
  {
   "cell_type": "code",
   "execution_count": 1,
   "id": "265e7623",
   "metadata": {},
   "outputs": [],
   "source": [
    "import numpy as np\n",
    "import pandas as pd\n",
    "from numpy import mean\n",
    "from numpy import std\n",
    "from sklearn.model_selection import cross_val_score\n",
    "from sklearn.model_selection import RepeatedStratifiedKFold\n",
    "from sklearn.ensemble import RandomForestClassifier"
   ]
  },
  {
   "cell_type": "code",
   "execution_count": 2,
   "id": "b7c80bba",
   "metadata": {},
   "outputs": [
    {
     "data": {
      "text/html": [
       "<div>\n",
       "<style scoped>\n",
       "    .dataframe tbody tr th:only-of-type {\n",
       "        vertical-align: middle;\n",
       "    }\n",
       "\n",
       "    .dataframe tbody tr th {\n",
       "        vertical-align: top;\n",
       "    }\n",
       "\n",
       "    .dataframe thead th {\n",
       "        text-align: right;\n",
       "    }\n",
       "</style>\n",
       "<table border=\"1\" class=\"dataframe\">\n",
       "  <thead>\n",
       "    <tr style=\"text-align: right;\">\n",
       "      <th></th>\n",
       "      <th>Sales</th>\n",
       "      <th>CompPrice</th>\n",
       "      <th>Income</th>\n",
       "      <th>Advertising</th>\n",
       "      <th>Population</th>\n",
       "      <th>Price</th>\n",
       "      <th>ShelveLoc</th>\n",
       "      <th>Age</th>\n",
       "      <th>Education</th>\n",
       "      <th>Urban</th>\n",
       "      <th>US</th>\n",
       "    </tr>\n",
       "  </thead>\n",
       "  <tbody>\n",
       "    <tr>\n",
       "      <th>0</th>\n",
       "      <td>9.50</td>\n",
       "      <td>138</td>\n",
       "      <td>73</td>\n",
       "      <td>11</td>\n",
       "      <td>276</td>\n",
       "      <td>120</td>\n",
       "      <td>Bad</td>\n",
       "      <td>42</td>\n",
       "      <td>17</td>\n",
       "      <td>Yes</td>\n",
       "      <td>Yes</td>\n",
       "    </tr>\n",
       "    <tr>\n",
       "      <th>1</th>\n",
       "      <td>11.22</td>\n",
       "      <td>111</td>\n",
       "      <td>48</td>\n",
       "      <td>16</td>\n",
       "      <td>260</td>\n",
       "      <td>83</td>\n",
       "      <td>Good</td>\n",
       "      <td>65</td>\n",
       "      <td>10</td>\n",
       "      <td>Yes</td>\n",
       "      <td>Yes</td>\n",
       "    </tr>\n",
       "    <tr>\n",
       "      <th>2</th>\n",
       "      <td>10.06</td>\n",
       "      <td>113</td>\n",
       "      <td>35</td>\n",
       "      <td>10</td>\n",
       "      <td>269</td>\n",
       "      <td>80</td>\n",
       "      <td>Medium</td>\n",
       "      <td>59</td>\n",
       "      <td>12</td>\n",
       "      <td>Yes</td>\n",
       "      <td>Yes</td>\n",
       "    </tr>\n",
       "    <tr>\n",
       "      <th>3</th>\n",
       "      <td>7.40</td>\n",
       "      <td>117</td>\n",
       "      <td>100</td>\n",
       "      <td>4</td>\n",
       "      <td>466</td>\n",
       "      <td>97</td>\n",
       "      <td>Medium</td>\n",
       "      <td>55</td>\n",
       "      <td>14</td>\n",
       "      <td>Yes</td>\n",
       "      <td>Yes</td>\n",
       "    </tr>\n",
       "    <tr>\n",
       "      <th>4</th>\n",
       "      <td>4.15</td>\n",
       "      <td>141</td>\n",
       "      <td>64</td>\n",
       "      <td>3</td>\n",
       "      <td>340</td>\n",
       "      <td>128</td>\n",
       "      <td>Bad</td>\n",
       "      <td>38</td>\n",
       "      <td>13</td>\n",
       "      <td>Yes</td>\n",
       "      <td>No</td>\n",
       "    </tr>\n",
       "  </tbody>\n",
       "</table>\n",
       "</div>"
      ],
      "text/plain": [
       "   Sales  CompPrice  Income  Advertising  Population  Price ShelveLoc  Age  \\\n",
       "0   9.50        138      73           11         276    120       Bad   42   \n",
       "1  11.22        111      48           16         260     83      Good   65   \n",
       "2  10.06        113      35           10         269     80    Medium   59   \n",
       "3   7.40        117     100            4         466     97    Medium   55   \n",
       "4   4.15        141      64            3         340    128       Bad   38   \n",
       "\n",
       "   Education Urban   US  \n",
       "0         17   Yes  Yes  \n",
       "1         10   Yes  Yes  \n",
       "2         12   Yes  Yes  \n",
       "3         14   Yes  Yes  \n",
       "4         13   Yes   No  "
      ]
     },
     "execution_count": 2,
     "metadata": {},
     "output_type": "execute_result"
    }
   ],
   "source": [
    "# import DATA\n",
    "df = pd.read_csv('E://EXCELR//Data science//Data science assignment//15) Random Forests//Company_Data.csv')\n",
    "df.head()"
   ]
  },
  {
   "cell_type": "code",
   "execution_count": 3,
   "id": "38d97341",
   "metadata": {},
   "outputs": [
    {
     "data": {
      "text/plain": [
       "(400, 11)"
      ]
     },
     "execution_count": 3,
     "metadata": {},
     "output_type": "execute_result"
    }
   ],
   "source": [
    "df.shape"
   ]
  },
  {
   "cell_type": "code",
   "execution_count": 4,
   "id": "c8920795",
   "metadata": {},
   "outputs": [
    {
     "name": "stdout",
     "output_type": "stream",
     "text": [
      "<class 'pandas.core.frame.DataFrame'>\n",
      "RangeIndex: 400 entries, 0 to 399\n",
      "Data columns (total 11 columns):\n",
      " #   Column       Non-Null Count  Dtype  \n",
      "---  ------       --------------  -----  \n",
      " 0   Sales        400 non-null    float64\n",
      " 1   CompPrice    400 non-null    int64  \n",
      " 2   Income       400 non-null    int64  \n",
      " 3   Advertising  400 non-null    int64  \n",
      " 4   Population   400 non-null    int64  \n",
      " 5   Price        400 non-null    int64  \n",
      " 6   ShelveLoc    400 non-null    object \n",
      " 7   Age          400 non-null    int64  \n",
      " 8   Education    400 non-null    int64  \n",
      " 9   Urban        400 non-null    object \n",
      " 10  US           400 non-null    object \n",
      "dtypes: float64(1), int64(7), object(3)\n",
      "memory usage: 34.5+ KB\n"
     ]
    }
   ],
   "source": [
    "df.info()"
   ]
  },
  {
   "cell_type": "code",
   "execution_count": 5,
   "id": "6379ffae",
   "metadata": {},
   "outputs": [
    {
     "data": {
      "text/plain": [
       "count    400.000000\n",
       "mean       7.496325\n",
       "std        2.824115\n",
       "min        0.000000\n",
       "25%        5.390000\n",
       "50%        7.490000\n",
       "75%        9.320000\n",
       "max       16.270000\n",
       "Name: Sales, dtype: float64"
      ]
     },
     "execution_count": 5,
     "metadata": {},
     "output_type": "execute_result"
    }
   ],
   "source": [
    "df['Sales'].describe()"
   ]
  },
  {
   "cell_type": "markdown",
   "id": "3c4f2e0d",
   "metadata": {},
   "source": [
    "Binning the Sales colum to create three distinct categories: low, medium and high sales.\n",
    "\n"
   ]
  },
  {
   "cell_type": "code",
   "execution_count": 6,
   "id": "662ab722",
   "metadata": {},
   "outputs": [
    {
     "data": {
      "text/plain": [
       "array([ 0.        ,  5.42333333, 10.84666667, 16.27      ])"
      ]
     },
     "execution_count": 6,
     "metadata": {},
     "output_type": "execute_result"
    }
   ],
   "source": [
    "bins = np.linspace(min(df['Sales']), max(df['Sales']), 4)\n",
    "bins"
   ]
  },
  {
   "cell_type": "code",
   "execution_count": 7,
   "id": "ee8dfcb3",
   "metadata": {},
   "outputs": [
    {
     "data": {
      "text/html": [
       "<div>\n",
       "<style scoped>\n",
       "    .dataframe tbody tr th:only-of-type {\n",
       "        vertical-align: middle;\n",
       "    }\n",
       "\n",
       "    .dataframe tbody tr th {\n",
       "        vertical-align: top;\n",
       "    }\n",
       "\n",
       "    .dataframe thead th {\n",
       "        text-align: right;\n",
       "    }\n",
       "</style>\n",
       "<table border=\"1\" class=\"dataframe\">\n",
       "  <thead>\n",
       "    <tr style=\"text-align: right;\">\n",
       "      <th></th>\n",
       "      <th>Sales</th>\n",
       "      <th>Sales_bin</th>\n",
       "    </tr>\n",
       "  </thead>\n",
       "  <tbody>\n",
       "    <tr>\n",
       "      <th>0</th>\n",
       "      <td>9.50</td>\n",
       "      <td>Medium</td>\n",
       "    </tr>\n",
       "    <tr>\n",
       "      <th>1</th>\n",
       "      <td>11.22</td>\n",
       "      <td>High</td>\n",
       "    </tr>\n",
       "    <tr>\n",
       "      <th>2</th>\n",
       "      <td>10.06</td>\n",
       "      <td>Medium</td>\n",
       "    </tr>\n",
       "    <tr>\n",
       "      <th>3</th>\n",
       "      <td>7.40</td>\n",
       "      <td>Medium</td>\n",
       "    </tr>\n",
       "    <tr>\n",
       "      <th>4</th>\n",
       "      <td>4.15</td>\n",
       "      <td>Low</td>\n",
       "    </tr>\n",
       "  </tbody>\n",
       "</table>\n",
       "</div>"
      ],
      "text/plain": [
       "   Sales Sales_bin\n",
       "0   9.50    Medium\n",
       "1  11.22      High\n",
       "2  10.06    Medium\n",
       "3   7.40    Medium\n",
       "4   4.15       Low"
      ]
     },
     "execution_count": 7,
     "metadata": {},
     "output_type": "execute_result"
    }
   ],
   "source": [
    "label_names = ['Low', 'Medium', 'High']\n",
    "df['Sales_bin'] = pd.cut(df['Sales'], bins, labels=label_names, include_lowest=True )\n",
    "df[['Sales','Sales_bin']].head()"
   ]
  },
  {
   "cell_type": "code",
   "execution_count": 8,
   "id": "59263dd9",
   "metadata": {},
   "outputs": [
    {
     "data": {
      "text/html": [
       "<div>\n",
       "<style scoped>\n",
       "    .dataframe tbody tr th:only-of-type {\n",
       "        vertical-align: middle;\n",
       "    }\n",
       "\n",
       "    .dataframe tbody tr th {\n",
       "        vertical-align: top;\n",
       "    }\n",
       "\n",
       "    .dataframe thead th {\n",
       "        text-align: right;\n",
       "    }\n",
       "</style>\n",
       "<table border=\"1\" class=\"dataframe\">\n",
       "  <thead>\n",
       "    <tr style=\"text-align: right;\">\n",
       "      <th></th>\n",
       "      <th>CompPrice</th>\n",
       "      <th>Income</th>\n",
       "      <th>Advertising</th>\n",
       "      <th>Population</th>\n",
       "      <th>Price</th>\n",
       "      <th>ShelveLoc</th>\n",
       "      <th>Age</th>\n",
       "      <th>Education</th>\n",
       "      <th>Urban</th>\n",
       "      <th>US</th>\n",
       "      <th>Sales_bin</th>\n",
       "    </tr>\n",
       "  </thead>\n",
       "  <tbody>\n",
       "    <tr>\n",
       "      <th>0</th>\n",
       "      <td>138</td>\n",
       "      <td>73</td>\n",
       "      <td>11</td>\n",
       "      <td>276</td>\n",
       "      <td>120</td>\n",
       "      <td>Bad</td>\n",
       "      <td>42</td>\n",
       "      <td>17</td>\n",
       "      <td>Yes</td>\n",
       "      <td>Yes</td>\n",
       "      <td>Medium</td>\n",
       "    </tr>\n",
       "    <tr>\n",
       "      <th>1</th>\n",
       "      <td>111</td>\n",
       "      <td>48</td>\n",
       "      <td>16</td>\n",
       "      <td>260</td>\n",
       "      <td>83</td>\n",
       "      <td>Good</td>\n",
       "      <td>65</td>\n",
       "      <td>10</td>\n",
       "      <td>Yes</td>\n",
       "      <td>Yes</td>\n",
       "      <td>High</td>\n",
       "    </tr>\n",
       "    <tr>\n",
       "      <th>2</th>\n",
       "      <td>113</td>\n",
       "      <td>35</td>\n",
       "      <td>10</td>\n",
       "      <td>269</td>\n",
       "      <td>80</td>\n",
       "      <td>Medium</td>\n",
       "      <td>59</td>\n",
       "      <td>12</td>\n",
       "      <td>Yes</td>\n",
       "      <td>Yes</td>\n",
       "      <td>Medium</td>\n",
       "    </tr>\n",
       "    <tr>\n",
       "      <th>3</th>\n",
       "      <td>117</td>\n",
       "      <td>100</td>\n",
       "      <td>4</td>\n",
       "      <td>466</td>\n",
       "      <td>97</td>\n",
       "      <td>Medium</td>\n",
       "      <td>55</td>\n",
       "      <td>14</td>\n",
       "      <td>Yes</td>\n",
       "      <td>Yes</td>\n",
       "      <td>Medium</td>\n",
       "    </tr>\n",
       "    <tr>\n",
       "      <th>4</th>\n",
       "      <td>141</td>\n",
       "      <td>64</td>\n",
       "      <td>3</td>\n",
       "      <td>340</td>\n",
       "      <td>128</td>\n",
       "      <td>Bad</td>\n",
       "      <td>38</td>\n",
       "      <td>13</td>\n",
       "      <td>Yes</td>\n",
       "      <td>No</td>\n",
       "      <td>Low</td>\n",
       "    </tr>\n",
       "  </tbody>\n",
       "</table>\n",
       "</div>"
      ],
      "text/plain": [
       "   CompPrice  Income  Advertising  Population  Price ShelveLoc  Age  \\\n",
       "0        138      73           11         276    120       Bad   42   \n",
       "1        111      48           16         260     83      Good   65   \n",
       "2        113      35           10         269     80    Medium   59   \n",
       "3        117     100            4         466     97    Medium   55   \n",
       "4        141      64            3         340    128       Bad   38   \n",
       "\n",
       "   Education Urban   US Sales_bin  \n",
       "0         17   Yes  Yes    Medium  \n",
       "1         10   Yes  Yes      High  \n",
       "2         12   Yes  Yes    Medium  \n",
       "3         14   Yes  Yes    Medium  \n",
       "4         13   Yes   No       Low  "
      ]
     },
     "execution_count": 8,
     "metadata": {},
     "output_type": "execute_result"
    }
   ],
   "source": [
    "# Dropping the sales column as only binned column is necessary\n",
    "df.drop('Sales',axis=1,inplace=True)\n",
    "df.head()"
   ]
  },
  {
   "cell_type": "code",
   "execution_count": 9,
   "id": "2a9651f1",
   "metadata": {},
   "outputs": [
    {
     "data": {
      "text/plain": [
       "Medium    247\n",
       "Low       102\n",
       "High       51\n",
       "Name: Sales_bin, dtype: int64"
      ]
     },
     "execution_count": 9,
     "metadata": {},
     "output_type": "execute_result"
    }
   ],
   "source": [
    "# checking the data distribution in output variable\n",
    "df['Sales_bin'].value_counts()"
   ]
  },
  {
   "cell_type": "code",
   "execution_count": 10,
   "id": "d80c0035",
   "metadata": {},
   "outputs": [
    {
     "name": "stdout",
     "output_type": "stream",
     "text": [
      "Percent of data labelled as Low: 25.5\n",
      "Percent of data labelled as Medium: 61.75\n",
      "Percent of data labelled as High: 12.75\n"
     ]
    }
   ],
   "source": [
    "l=(df['Sales_bin']=='Low').sum()/len(df)*100\n",
    "m=(df['Sales_bin']=='Medium').sum()/len(df)*100\n",
    "h=(df['Sales_bin']=='High').sum()/len(df)*100\n",
    "\n",
    "print(\"Percent of data labelled as Low:\",np.round(l,2))\n",
    "print(\"Percent of data labelled as Medium:\",np.round(m,2))\n",
    "print(\"Percent of data labelled as High:\",np.round(h,2))"
   ]
  },
  {
   "cell_type": "markdown",
   "id": "1e0e1126",
   "metadata": {},
   "source": [
    "60 percent of data is labelled as medium whereas rest 40 percent comprises of other labels.So this dataset has slight imbalance with bias towards Medium label.\n",
    "\n"
   ]
  },
  {
   "cell_type": "code",
   "execution_count": 11,
   "id": "4a174b77",
   "metadata": {},
   "outputs": [
    {
     "name": "stdout",
     "output_type": "stream",
     "text": [
      "['Bad' 'Good' 'Medium']\n",
      "['No' 'Yes']\n",
      "['No' 'Yes']\n",
      "['High' 'Low' 'Medium']\n"
     ]
    }
   ],
   "source": [
    "# Label Encoding Categorical Columns\n",
    "\n",
    "from sklearn import preprocessing\n",
    "\n",
    "cols=['ShelveLoc','Urban','US','Sales_bin']  \n",
    "\n",
    "le=preprocessing.LabelEncoder()\n",
    "for col in cols:\n",
    "    \n",
    "    df[col]=le.fit_transform(df[col])\n",
    "    print(le.classes_)"
   ]
  },
  {
   "cell_type": "code",
   "execution_count": 12,
   "id": "8d054faa",
   "metadata": {},
   "outputs": [
    {
     "data": {
      "text/plain": [
       "2    247\n",
       "1    102\n",
       "0     51\n",
       "Name: Sales_bin, dtype: int64"
      ]
     },
     "execution_count": 12,
     "metadata": {},
     "output_type": "execute_result"
    }
   ],
   "source": [
    "# checking the data distribution in output variable\n",
    "df['Sales_bin'].value_counts()"
   ]
  },
  {
   "cell_type": "code",
   "execution_count": 13,
   "id": "7639a7d0",
   "metadata": {},
   "outputs": [
    {
     "data": {
      "text/html": [
       "<div>\n",
       "<style scoped>\n",
       "    .dataframe tbody tr th:only-of-type {\n",
       "        vertical-align: middle;\n",
       "    }\n",
       "\n",
       "    .dataframe tbody tr th {\n",
       "        vertical-align: top;\n",
       "    }\n",
       "\n",
       "    .dataframe thead th {\n",
       "        text-align: right;\n",
       "    }\n",
       "</style>\n",
       "<table border=\"1\" class=\"dataframe\">\n",
       "  <thead>\n",
       "    <tr style=\"text-align: right;\">\n",
       "      <th></th>\n",
       "      <th>CompPrice</th>\n",
       "      <th>Income</th>\n",
       "      <th>Advertising</th>\n",
       "      <th>Population</th>\n",
       "      <th>Price</th>\n",
       "      <th>ShelveLoc</th>\n",
       "      <th>Age</th>\n",
       "      <th>Education</th>\n",
       "      <th>Urban</th>\n",
       "      <th>US</th>\n",
       "      <th>Sales_bin</th>\n",
       "    </tr>\n",
       "  </thead>\n",
       "  <tbody>\n",
       "    <tr>\n",
       "      <th>0</th>\n",
       "      <td>138</td>\n",
       "      <td>73</td>\n",
       "      <td>11</td>\n",
       "      <td>276</td>\n",
       "      <td>120</td>\n",
       "      <td>0</td>\n",
       "      <td>42</td>\n",
       "      <td>17</td>\n",
       "      <td>1</td>\n",
       "      <td>1</td>\n",
       "      <td>2</td>\n",
       "    </tr>\n",
       "    <tr>\n",
       "      <th>1</th>\n",
       "      <td>111</td>\n",
       "      <td>48</td>\n",
       "      <td>16</td>\n",
       "      <td>260</td>\n",
       "      <td>83</td>\n",
       "      <td>1</td>\n",
       "      <td>65</td>\n",
       "      <td>10</td>\n",
       "      <td>1</td>\n",
       "      <td>1</td>\n",
       "      <td>0</td>\n",
       "    </tr>\n",
       "    <tr>\n",
       "      <th>2</th>\n",
       "      <td>113</td>\n",
       "      <td>35</td>\n",
       "      <td>10</td>\n",
       "      <td>269</td>\n",
       "      <td>80</td>\n",
       "      <td>2</td>\n",
       "      <td>59</td>\n",
       "      <td>12</td>\n",
       "      <td>1</td>\n",
       "      <td>1</td>\n",
       "      <td>2</td>\n",
       "    </tr>\n",
       "    <tr>\n",
       "      <th>3</th>\n",
       "      <td>117</td>\n",
       "      <td>100</td>\n",
       "      <td>4</td>\n",
       "      <td>466</td>\n",
       "      <td>97</td>\n",
       "      <td>2</td>\n",
       "      <td>55</td>\n",
       "      <td>14</td>\n",
       "      <td>1</td>\n",
       "      <td>1</td>\n",
       "      <td>2</td>\n",
       "    </tr>\n",
       "    <tr>\n",
       "      <th>4</th>\n",
       "      <td>141</td>\n",
       "      <td>64</td>\n",
       "      <td>3</td>\n",
       "      <td>340</td>\n",
       "      <td>128</td>\n",
       "      <td>0</td>\n",
       "      <td>38</td>\n",
       "      <td>13</td>\n",
       "      <td>1</td>\n",
       "      <td>0</td>\n",
       "      <td>1</td>\n",
       "    </tr>\n",
       "  </tbody>\n",
       "</table>\n",
       "</div>"
      ],
      "text/plain": [
       "   CompPrice  Income  Advertising  Population  Price  ShelveLoc  Age  \\\n",
       "0        138      73           11         276    120          0   42   \n",
       "1        111      48           16         260     83          1   65   \n",
       "2        113      35           10         269     80          2   59   \n",
       "3        117     100            4         466     97          2   55   \n",
       "4        141      64            3         340    128          0   38   \n",
       "\n",
       "   Education  Urban  US  Sales_bin  \n",
       "0         17      1   1          2  \n",
       "1         10      1   1          0  \n",
       "2         12      1   1          2  \n",
       "3         14      1   1          2  \n",
       "4         13      1   0          1  "
      ]
     },
     "execution_count": 13,
     "metadata": {},
     "output_type": "execute_result"
    }
   ],
   "source": [
    "df.head()"
   ]
  },
  {
   "cell_type": "markdown",
   "id": "7fbed5e5",
   "metadata": {},
   "source": [
    "# Building Random Forest for classification and evaluating its overall performance using cross validation score.\n"
   ]
  },
  {
   "cell_type": "code",
   "execution_count": 14,
   "id": "e0a5a36c",
   "metadata": {},
   "outputs": [],
   "source": [
    "arr=df.values\n",
    "x=arr[:,:-1]\n",
    "y=arr[:,-1]"
   ]
  },
  {
   "cell_type": "code",
   "execution_count": 15,
   "id": "cb9a909f",
   "metadata": {},
   "outputs": [],
   "source": [
    "from sklearn.model_selection import train_test_split\n",
    "x_train, x_test, y_train, y_test = train_test_split(x, y, test_size=0.30, random_state=45)"
   ]
  },
  {
   "cell_type": "code",
   "execution_count": 16,
   "id": "3b7f8a40",
   "metadata": {},
   "outputs": [],
   "source": [
    "# define the model\n",
    "# Using 100 trees and max_features=4\n",
    "rfc1 = RandomForestClassifier(n_estimators=100,max_features=4)"
   ]
  },
  {
   "cell_type": "code",
   "execution_count": 17,
   "id": "cdf5e9b7",
   "metadata": {},
   "outputs": [
    {
     "name": "stdout",
     "output_type": "stream",
     "text": [
      "Accuracy is: 0.6821428571428572\n"
     ]
    }
   ],
   "source": [
    "# Evaluate the base model(without hypertuning)\n",
    "\n",
    "from sklearn.model_selection import StratifiedKFold\n",
    "\n",
    "cv = StratifiedKFold(n_splits=10,shuffle=True)\n",
    "result = cross_val_score(rfc1, x_train, y_train, scoring='accuracy', cv=cv, n_jobs=-1, error_score='raise')\n",
    "\n",
    "print(\"Accuracy is:\",np.mean(result))"
   ]
  },
  {
   "cell_type": "code",
   "execution_count": 18,
   "id": "cab05d13",
   "metadata": {},
   "outputs": [],
   "source": [
    "# Iterating over a range of folds in StratifiedKFold\n",
    "\n",
    "from sklearn.model_selection import GridSearchCV\n",
    "\n",
    "mean_accuracy=[]\n",
    "n_folds=[]\n",
    "\n",
    "for i in range(2,15):\n",
    "    cv2=StratifiedKFold(n_splits=i,shuffle=True,random_state=20)\n",
    "    result = cross_val_score(rfc1, x_train, y_train, scoring='accuracy', cv=cv2, error_score='raise')\n",
    "    avg=np.mean(result)\n",
    "    mean_accuracy.append(avg)\n",
    "    n_folds.append(i)"
   ]
  },
  {
   "cell_type": "code",
   "execution_count": 19,
   "id": "b07964c2",
   "metadata": {},
   "outputs": [
    {
     "data": {
      "text/plain": [
       "<AxesSubplot:>"
      ]
     },
     "execution_count": 19,
     "metadata": {},
     "output_type": "execute_result"
    },
    {
     "data": {
      "image/png": "[encoded data removed]",
      "text/plain": [
       "<Figure size 640x480 with 1 Axes>"
      ]
     },
     "metadata": {},
     "output_type": "display_data"
    }
   ],
   "source": [
    "## Visualizing the scores generated for each number of folds\n",
    "\n",
    "import seaborn as sns\n",
    "sns.lineplot(x=n_folds,y=mean_accuracy)"
   ]
  },
  {
   "cell_type": "markdown",
   "id": "086bfe08",
   "metadata": {},
   "source": [
    "# Fitting the model and finding the important features\n"
   ]
  },
  {
   "cell_type": "code",
   "execution_count": 20,
   "id": "df76ef6e",
   "metadata": {},
   "outputs": [
    {
     "data": {
      "text/plain": [
       "array([0.12344773, 0.10604139, 0.09125683, 0.11323374, 0.18094764,\n",
       "       0.14356636, 0.14525606, 0.0588416 , 0.0180177 , 0.01939093])"
      ]
     },
     "execution_count": 20,
     "metadata": {},
     "output_type": "execute_result"
    }
   ],
   "source": [
    "rfc1.fit(x_train,y_train)\n",
    "rfc1.feature_importances_"
   ]
  },
  {
   "cell_type": "code",
   "execution_count": 21,
   "id": "260bc6ee",
   "metadata": {},
   "outputs": [
    {
     "data": {
      "text/plain": [
       "Price          0.180948\n",
       "Age            0.145256\n",
       "ShelveLoc      0.143566\n",
       "CompPrice      0.123448\n",
       "Population     0.113234\n",
       "Income         0.106041\n",
       "Advertising    0.091257\n",
       "Education      0.058842\n",
       "US             0.019391\n",
       "Urban          0.018018\n",
       "dtype: float64"
      ]
     },
     "execution_count": 21,
     "metadata": {},
     "output_type": "execute_result"
    }
   ],
   "source": [
    "cols=['CompPrice', 'Income', 'Advertising', 'Population', 'Price','ShelveLoc', 'Age', 'Education', 'Urban', 'US']\n",
    "feature_imp=pd.Series(rfc1.feature_importances_,index=cols).sort_values(ascending=False)\n",
    "feature_imp"
   ]
  },
  {
   "cell_type": "code",
   "execution_count": 22,
   "id": "18f66a02",
   "metadata": {},
   "outputs": [
    {
     "data": {
      "image/png": "[encoded data removed]",
      "text/plain": [
       "<Figure size 640x480 with 1 Axes>"
      ]
     },
     "metadata": {},
     "output_type": "display_data"
    }
   ],
   "source": [
    "import matplotlib.pyplot as plt\n",
    "import seaborn as sns\n",
    "%matplotlib inline\n",
    "# Creating a bar plot\n",
    "sns.barplot(x=feature_imp, y=feature_imp.index)\n",
    "# Add labels to your graph\n",
    "plt.xlabel('Feature Importance Score')\n",
    "plt.ylabel('Features')\n",
    "plt.title(\"Visualizing Important Features\")\n",
    "plt.show()"
   ]
  },
  {
   "cell_type": "markdown",
   "id": "d0169851",
   "metadata": {},
   "source": [
    "The four most important features/attributes for predicting sales of this company are:Price,ShelveLoc,Age and CompPrice\n",
    "\n"
   ]
  },
  {
   "cell_type": "code",
   "execution_count": 23,
   "id": "43a87800",
   "metadata": {},
   "outputs": [
    {
     "name": "stdout",
     "output_type": "stream",
     "text": [
      "              precision    recall  f1-score   support\n",
      "\n",
      "      0-High       0.78      0.47      0.58        15\n",
      "       1-Low       0.67      0.62      0.64        26\n",
      "    2-Medium       0.79      0.87      0.83        79\n",
      "\n",
      "    accuracy                           0.77       120\n",
      "   macro avg       0.75      0.65      0.68       120\n",
      "weighted avg       0.76      0.77      0.76       120\n",
      "\n"
     ]
    }
   ],
   "source": [
    "# Prediction and accuracy score calculation\n",
    "pred1 = rfc1.predict(x_test)\n",
    "\n",
    "from sklearn.metrics import classification_report\n",
    "target_names=['0-High', '1-Low', '2-Medium']\n",
    "print(classification_report(y_test, pred1,target_names=target_names))"
   ]
  },
  {
   "cell_type": "code",
   "execution_count": 24,
   "id": "e0a44f48",
   "metadata": {},
   "outputs": [
    {
     "data": {
      "text/plain": [
       "array([[ 7,  0,  8],\n",
       "       [ 0, 16, 10],\n",
       "       [ 2,  8, 69]], dtype=int64)"
      ]
     },
     "execution_count": 24,
     "metadata": {},
     "output_type": "execute_result"
    }
   ],
   "source": [
    "# Confusion Matrix\n",
    "\n",
    "from sklearn.metrics import confusion_matrix\n",
    "conf_matrix1=confusion_matrix(y_test, pred1)\n",
    "conf_matrix1"
   ]
  },
  {
   "cell_type": "markdown",
   "id": "21f3f0bb",
   "metadata": {},
   "source": [
    "# Hyper Tuning Random Forest"
   ]
  },
  {
   "cell_type": "code",
   "execution_count": 25,
   "id": "a76511f8",
   "metadata": {},
   "outputs": [
    {
     "data": {
      "text/plain": [
       "{'bootstrap': True,\n",
       " 'ccp_alpha': 0.0,\n",
       " 'class_weight': None,\n",
       " 'criterion': 'gini',\n",
       " 'max_depth': None,\n",
       " 'max_features': 4,\n",
       " 'max_leaf_nodes': None,\n",
       " 'max_samples': None,\n",
       " 'min_impurity_decrease': 0.0,\n",
       " 'min_samples_leaf': 1,\n",
       " 'min_samples_split': 2,\n",
       " 'min_weight_fraction_leaf': 0.0,\n",
       " 'n_estimators': 100,\n",
       " 'n_jobs': None,\n",
       " 'oob_score': False,\n",
       " 'random_state': None,\n",
       " 'verbose': 0,\n",
       " 'warm_start': False}"
      ]
     },
     "execution_count": 25,
     "metadata": {},
     "output_type": "execute_result"
    }
   ],
   "source": [
    "## Getting the features with which the base model was fitted\n",
    "rfc1.get_params()"
   ]
  },
  {
   "cell_type": "markdown",
   "id": "b1cc3063",
   "metadata": {},
   "source": [
    "# 1. Using RandomizedSearchCV\n"
   ]
  },
  {
   "cell_type": "code",
   "execution_count": 26,
   "id": "a5820071",
   "metadata": {},
   "outputs": [
    {
     "name": "stdout",
     "output_type": "stream",
     "text": [
      "Fitting 3 folds for each of 100 candidates, totalling 300 fits\n"
     ]
    },
    {
     "data": {
      "text/plain": [
       "RandomizedSearchCV(cv=StratifiedKFold(n_splits=3, random_state=None, shuffle=True),\n",
       "                   estimator=RandomForestClassifier(max_features=4), n_iter=100,\n",
       "                   n_jobs=-1,\n",
       "                   param_distributions={'max_depth': [2, 3, 4, 5, 6, 7, 8, 9,\n",
       "                                                      10, 11, 12, 13, 14],\n",
       "                                        'max_features': [2, 3, 4, 5, 6, 7, 8],\n",
       "                                        'min_samples_leaf': [2, 3, 4, 5, 6, 7,\n",
       "                                                             8, 9],\n",
       "                                        'min_samples_split': [5, 10, 15, 20, 25,\n",
       "                                                              30, 35, 40, 45],\n",
       "                                        'n_estimators': [50, 60, 70, 80, 90,\n",
       "                                                         100, 110, 120, 130,\n",
       "                                                         140, 150, 160, 170,\n",
       "                                                         180, 190]},\n",
       "                   random_state=42, scoring='accuracy', verbose=2)"
      ]
     },
     "execution_count": 26,
     "metadata": {},
     "output_type": "execute_result"
    }
   ],
   "source": [
    "from sklearn.model_selection import RandomizedSearchCV\n",
    "\n",
    "cv3 = StratifiedKFold(n_splits=3,shuffle=True)\n",
    "\n",
    "random_grid = {'n_estimators': [x for x in range(50,200,10)],\n",
    "               'max_features': [x for x in range(2,9)],\n",
    "               'max_depth': [x for x in range(2,15)],\n",
    "               'min_samples_split':[x for x in range(5,50,5)],\n",
    "               'min_samples_leaf': [x for x in range(2,10)]}\n",
    "                                    \n",
    "# Random search of parameters, using 5 fold cross validation, \n",
    "# search across 100 different combinations, and use all available cores\n",
    "random_cv = RandomizedSearchCV(estimator = rfc1, param_distributions = random_grid, n_iter = 100,\n",
    "                               cv = cv3,scoring='accuracy', verbose=2, random_state=42, n_jobs = -1)  \n",
    "                                    \n",
    "# fitting the model for random grid search \n",
    "random_cv.fit(x_train, y_train) \n"
   ]
  },
  {
   "cell_type": "code",
   "execution_count": 27,
   "id": "aac3a843",
   "metadata": {},
   "outputs": [
    {
     "name": "stdout",
     "output_type": "stream",
     "text": [
      "Best score for RandomSearchCV is: 0.6893922062075802\n",
      "Optimal parameters for RandomSearchCV is: {'n_estimators': 100, 'min_samples_split': 5, 'min_samples_leaf': 3, 'max_features': 3, 'max_depth': 12}\n"
     ]
    }
   ],
   "source": [
    "\n",
    "# Finding best parameter after tuning \n",
    "print(\"Best score for RandomSearchCV is:\",random_cv.best_score_)\n",
    "print(\"Optimal parameters for RandomSearchCV is:\",random_cv.best_params_)"
   ]
  },
  {
   "cell_type": "code",
   "execution_count": 28,
   "id": "c85f92f1",
   "metadata": {},
   "outputs": [
    {
     "data": {
      "text/plain": [
       "RandomForestClassifier(max_depth=12, max_features=3, min_samples_leaf=3,\n",
       "                       min_samples_split=5)"
      ]
     },
     "execution_count": 28,
     "metadata": {},
     "output_type": "execute_result"
    }
   ],
   "source": [
    "## storing the best parameters in a variable\n",
    "## fitting the model with best parameters\n",
    "\n",
    "d= random_cv.best_params_\n",
    "\n",
    "rfc2= RandomForestClassifier(n_estimators=d['n_estimators'], min_samples_split=d['min_samples_split'],\n",
    "                             min_samples_leaf=d['min_samples_leaf'],max_features=d['max_features'],\n",
    "                             max_depth=d['max_depth'])\n",
    "\n",
    "rfc2.fit(x_train,y_train)"
   ]
  },
  {
   "cell_type": "code",
   "execution_count": 29,
   "id": "5de759f1",
   "metadata": {},
   "outputs": [
    {
     "name": "stdout",
     "output_type": "stream",
     "text": [
      "              precision    recall  f1-score   support\n",
      "\n",
      "      0-High       1.00      0.13      0.24        15\n",
      "       1-Low       0.71      0.46      0.56        26\n",
      "    2-Medium       0.73      0.94      0.82        79\n",
      "\n",
      "    accuracy                           0.73       120\n",
      "   macro avg       0.81      0.51      0.54       120\n",
      "weighted avg       0.76      0.73      0.69       120\n",
      "\n"
     ]
    }
   ],
   "source": [
    "# Prediction and accuracy score calculation\n",
    "\n",
    "pred2 = rfc2.predict(x_test)\n",
    "target_names=['0-High', '1-Low', '2-Medium']\n",
    "print(classification_report(y_test, pred2,target_names=target_names,zero_division=1))"
   ]
  },
  {
   "cell_type": "code",
   "execution_count": 30,
   "id": "82eaf274",
   "metadata": {},
   "outputs": [
    {
     "data": {
      "text/plain": [
       "array([[ 2,  0, 13],\n",
       "       [ 0, 12, 14],\n",
       "       [ 0,  5, 74]], dtype=int64)"
      ]
     },
     "execution_count": 30,
     "metadata": {},
     "output_type": "execute_result"
    }
   ],
   "source": [
    "conf_matrix2=confusion_matrix(y_test,pred2)\n",
    "conf_matrix2"
   ]
  },
  {
   "cell_type": "markdown",
   "id": "ea236057",
   "metadata": {},
   "source": [
    "# 2. Using GridSearchCV\n"
   ]
  },
  {
   "cell_type": "code",
   "execution_count": 31,
   "id": "ee1dc1b5",
   "metadata": {},
   "outputs": [
    {
     "name": "stdout",
     "output_type": "stream",
     "text": [
      "Fitting 3 folds for each of 432 candidates, totalling 1296 fits\n"
     ]
    },
    {
     "data": {
      "text/plain": [
       "GridSearchCV(cv=StratifiedKFold(n_splits=3, random_state=None, shuffle=True),\n",
       "             estimator=RandomForestClassifier(max_features=4), n_jobs=-1,\n",
       "             param_grid={'max_depth': [4, 5, 6], 'max_features': [4, 5, 6, 7],\n",
       "                         'min_samples_leaf': [3, 4, 5],\n",
       "                         'min_samples_split': [5, 10, 15],\n",
       "                         'n_estimators': [130, 140, 150, 160]},\n",
       "             scoring='accuracy', verbose=2)"
      ]
     },
     "execution_count": 31,
     "metadata": {},
     "output_type": "execute_result"
    }
   ],
   "source": [
    "\n",
    "from sklearn.model_selection import GridSearchCV\n",
    "\n",
    "param_grid={'n_estimators': [130,140,150,160],\n",
    "            'max_features': [4,5,6,7],\n",
    "            'max_depth': [4,5,6],\n",
    "            'min_samples_split':[5,10,15],\n",
    "            'min_samples_leaf': [3,4,5]}\n",
    "\n",
    "grid_cv= GridSearchCV(estimator=rfc1,param_grid = param_grid, cv = cv3,scoring='accuracy', n_jobs = -1, verbose = 2)\n",
    "\n",
    "# fitting the model for  grid search CV\n",
    "grid_cv.fit(x_train, y_train)"
   ]
  },
  {
   "cell_type": "code",
   "execution_count": 32,
   "id": "41f528f6",
   "metadata": {},
   "outputs": [
    {
     "name": "stdout",
     "output_type": "stream",
     "text": [
      "Best score for GridSearchCV is: 0.6927476549988562\n",
      "Optimal parameters for GridSearchCV is: {'max_depth': 6, 'max_features': 7, 'min_samples_leaf': 5, 'min_samples_split': 10, 'n_estimators': 160}\n"
     ]
    }
   ],
   "source": [
    "\n",
    "# Finding best parameter after tuning \n",
    "\n",
    "print(\"Best score for GridSearchCV is:\",grid_cv.best_score_)\n",
    "print(\"Optimal parameters for GridSearchCV is:\",grid_cv.best_params_)"
   ]
  },
  {
   "cell_type": "code",
   "execution_count": 33,
   "id": "19a080c2",
   "metadata": {},
   "outputs": [
    {
     "data": {
      "text/plain": [
       "RandomForestClassifier(max_depth=6, max_features=7, min_samples_leaf=5,\n",
       "                       min_samples_split=10, n_estimators=160)"
      ]
     },
     "execution_count": 33,
     "metadata": {},
     "output_type": "execute_result"
    }
   ],
   "source": [
    "## storing the best parameters in a variable\n",
    "## fitting the model with best parameters\n",
    "\n",
    "d1= grid_cv.best_params_\n",
    "\n",
    "rfc3= RandomForestClassifier(n_estimators=d1['n_estimators'], min_samples_split=d1['min_samples_split'],\n",
    "                             min_samples_leaf=d1['min_samples_leaf'],max_features=d1['max_features'],\n",
    "                             max_depth=d1['max_depth'])\n",
    "\n",
    "rfc3.fit(x_train,y_train)"
   ]
  },
  {
   "cell_type": "code",
   "execution_count": 34,
   "id": "73ef5b2c",
   "metadata": {},
   "outputs": [
    {
     "name": "stdout",
     "output_type": "stream",
     "text": [
      "              precision    recall  f1-score   support\n",
      "\n",
      "      0-High       0.75      0.40      0.52        15\n",
      "       1-Low       0.83      0.58      0.68        26\n",
      "    2-Medium       0.79      0.94      0.86        79\n",
      "\n",
      "    accuracy                           0.79       120\n",
      "   macro avg       0.79      0.64      0.69       120\n",
      "weighted avg       0.79      0.79      0.78       120\n",
      "\n"
     ]
    }
   ],
   "source": [
    "# Prediction and accuracy score calculation\n",
    "\n",
    "pred3 = rfc3.predict(x_test)\n",
    "target_names=['0-High', '1-Low', '2-Medium']\n",
    "\n",
    "print(classification_report(y_test, pred3,target_names=target_names))"
   ]
  },
  {
   "cell_type": "code",
   "execution_count": 35,
   "id": "581631a8",
   "metadata": {},
   "outputs": [
    {
     "data": {
      "text/plain": [
       "array([[ 6,  0,  9],\n",
       "       [ 0, 15, 11],\n",
       "       [ 2,  3, 74]], dtype=int64)"
      ]
     },
     "execution_count": 35,
     "metadata": {},
     "output_type": "execute_result"
    }
   ],
   "source": [
    "conf_matrix3=confusion_matrix(y_test,pred3)\n",
    "conf_matrix3"
   ]
  },
  {
   "cell_type": "code",
   "execution_count": 36,
   "id": "ee49b0a0",
   "metadata": {},
   "outputs": [
    {
     "data": {
      "image/png": "[encoded data removed]",
      "text/plain": [
       "<Figure size 2250x1500 with 3 Axes>"
      ]
     },
     "metadata": {},
     "output_type": "display_data"
    }
   ],
   "source": [
    "from mlxtend.plotting import plot_confusion_matrix\n",
    "\n",
    "fig, axis= plt.subplots(1,3, figsize=(15,10),dpi=150)\n",
    "class_names = ['0=High', '1=Low', '2=Medium']\n",
    "\n",
    "\n",
    "fig, ax= plot_confusion_matrix(conf_mat=conf_matrix1,axis=axis[0],class_names=class_names,colorbar=False,show_absolute=True,show_normed=False)\n",
    "axis[0].set_title('Base Model')\n",
    "\n",
    "fig,ax= plot_confusion_matrix(conf_mat=conf_matrix2,axis=axis[1],class_names=class_names,colorbar=False,show_absolute=True,show_normed=False)\n",
    "axis[1].set_title('Using RandomizedSearchCV')\n",
    "\n",
    "fig,ax=plot_confusion_matrix(conf_mat=conf_matrix3,axis=axis[2],class_names=class_names,colorbar=False,show_absolute=True,show_normed=False)\n",
    "axis[2].set_title('Using GridSearchCV')\n",
    "\n",
    "plt.subplots_adjust(wspace=0.5)\n",
    "plt.show()\n"
   ]
  },
  {
   "cell_type": "code",
   "execution_count": null,
   "id": "e4580dca",
   "metadata": {},
   "outputs": [],
   "source": []
  }
 ],
 "metadata": {
  "kernelspec": {
   "display_name": "Python 3 (ipykernel)",
   "language": "python",
   "name": "python3"
  },
  "language_info": {
   "codemirror_mode": {
    "name": "ipython",
    "version": 3
   },
   "file_extension": ".py",
   "mimetype": "text/x-python",
   "name": "python",
   "nbconvert_exporter": "python",
   "pygments_lexer": "ipython3",
   "version": "3.9.13"
  }
 },
 "nbformat": 4,
 "nbformat_minor": 5
}
