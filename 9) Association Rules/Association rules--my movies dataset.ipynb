{
 "cells": [
  {
   "cell_type": "markdown",
   "id": "2b84eebc",
   "metadata": {},
   "source": [
    "# Prepare rules for the all the data sets \n",
    "1) Try different values of support and confidence. Observe the change in number of rules for different support,confidence values\n",
    "\n",
    "2) Change the minimum length in apriori algorithm\n",
    "\n",
    "3) Visulize the obtained rules using different plots \n"
   ]
  },
  {
   "cell_type": "code",
   "execution_count": 3,
   "id": "59875318",
   "metadata": {},
   "outputs": [],
   "source": [
    "# Installing the libraries\n",
    "import pandas as pd\n",
    "import numpy as np\n",
    "import matplotlib.pyplot as plt\n",
    "import seaborn as sns\n",
    "from mlxtend.frequent_patterns import apriori,association_rules\n",
    "from mlxtend.preprocessing import TransactionEncoder"
   ]
  },
  {
   "cell_type": "code",
   "execution_count": 4,
   "id": "0d276454",
   "metadata": {},
   "outputs": [
    {
     "data": {
      "text/html": [
       "<div>\n",
       "<style scoped>\n",
       "    .dataframe tbody tr th:only-of-type {\n",
       "        vertical-align: middle;\n",
       "    }\n",
       "\n",
       "    .dataframe tbody tr th {\n",
       "        vertical-align: top;\n",
       "    }\n",
       "\n",
       "    .dataframe thead th {\n",
       "        text-align: right;\n",
       "    }\n",
       "</style>\n",
       "<table border=\"1\" class=\"dataframe\">\n",
       "  <thead>\n",
       "    <tr style=\"text-align: right;\">\n",
       "      <th></th>\n",
       "      <th>V1</th>\n",
       "      <th>V2</th>\n",
       "      <th>V3</th>\n",
       "      <th>V4</th>\n",
       "      <th>V5</th>\n",
       "      <th>Sixth Sense</th>\n",
       "      <th>Gladiator</th>\n",
       "      <th>LOTR1</th>\n",
       "      <th>Harry Potter1</th>\n",
       "      <th>Patriot</th>\n",
       "      <th>LOTR2</th>\n",
       "      <th>Harry Potter2</th>\n",
       "      <th>LOTR</th>\n",
       "      <th>Braveheart</th>\n",
       "      <th>Green Mile</th>\n",
       "    </tr>\n",
       "  </thead>\n",
       "  <tbody>\n",
       "    <tr>\n",
       "      <th>0</th>\n",
       "      <td>Sixth Sense</td>\n",
       "      <td>LOTR1</td>\n",
       "      <td>Harry Potter1</td>\n",
       "      <td>Green Mile</td>\n",
       "      <td>LOTR2</td>\n",
       "      <td>1</td>\n",
       "      <td>0</td>\n",
       "      <td>1</td>\n",
       "      <td>1</td>\n",
       "      <td>0</td>\n",
       "      <td>1</td>\n",
       "      <td>0</td>\n",
       "      <td>0</td>\n",
       "      <td>0</td>\n",
       "      <td>1</td>\n",
       "    </tr>\n",
       "    <tr>\n",
       "      <th>1</th>\n",
       "      <td>Gladiator</td>\n",
       "      <td>Patriot</td>\n",
       "      <td>Braveheart</td>\n",
       "      <td>NaN</td>\n",
       "      <td>NaN</td>\n",
       "      <td>0</td>\n",
       "      <td>1</td>\n",
       "      <td>0</td>\n",
       "      <td>0</td>\n",
       "      <td>1</td>\n",
       "      <td>0</td>\n",
       "      <td>0</td>\n",
       "      <td>0</td>\n",
       "      <td>1</td>\n",
       "      <td>0</td>\n",
       "    </tr>\n",
       "    <tr>\n",
       "      <th>2</th>\n",
       "      <td>LOTR1</td>\n",
       "      <td>LOTR2</td>\n",
       "      <td>NaN</td>\n",
       "      <td>NaN</td>\n",
       "      <td>NaN</td>\n",
       "      <td>0</td>\n",
       "      <td>0</td>\n",
       "      <td>1</td>\n",
       "      <td>0</td>\n",
       "      <td>0</td>\n",
       "      <td>1</td>\n",
       "      <td>0</td>\n",
       "      <td>0</td>\n",
       "      <td>0</td>\n",
       "      <td>0</td>\n",
       "    </tr>\n",
       "    <tr>\n",
       "      <th>3</th>\n",
       "      <td>Gladiator</td>\n",
       "      <td>Patriot</td>\n",
       "      <td>Sixth Sense</td>\n",
       "      <td>NaN</td>\n",
       "      <td>NaN</td>\n",
       "      <td>1</td>\n",
       "      <td>1</td>\n",
       "      <td>0</td>\n",
       "      <td>0</td>\n",
       "      <td>1</td>\n",
       "      <td>0</td>\n",
       "      <td>0</td>\n",
       "      <td>0</td>\n",
       "      <td>0</td>\n",
       "      <td>0</td>\n",
       "    </tr>\n",
       "    <tr>\n",
       "      <th>4</th>\n",
       "      <td>Gladiator</td>\n",
       "      <td>Patriot</td>\n",
       "      <td>Sixth Sense</td>\n",
       "      <td>NaN</td>\n",
       "      <td>NaN</td>\n",
       "      <td>1</td>\n",
       "      <td>1</td>\n",
       "      <td>0</td>\n",
       "      <td>0</td>\n",
       "      <td>1</td>\n",
       "      <td>0</td>\n",
       "      <td>0</td>\n",
       "      <td>0</td>\n",
       "      <td>0</td>\n",
       "      <td>0</td>\n",
       "    </tr>\n",
       "  </tbody>\n",
       "</table>\n",
       "</div>"
      ],
      "text/plain": [
       "            V1       V2             V3          V4     V5  Sixth Sense  \\\n",
       "0  Sixth Sense    LOTR1  Harry Potter1  Green Mile  LOTR2            1   \n",
       "1    Gladiator  Patriot     Braveheart         NaN    NaN            0   \n",
       "2        LOTR1    LOTR2            NaN         NaN    NaN            0   \n",
       "3    Gladiator  Patriot    Sixth Sense         NaN    NaN            1   \n",
       "4    Gladiator  Patriot    Sixth Sense         NaN    NaN            1   \n",
       "\n",
       "   Gladiator  LOTR1  Harry Potter1  Patriot  LOTR2  Harry Potter2  LOTR  \\\n",
       "0          0      1              1        0      1              0     0   \n",
       "1          1      0              0        1      0              0     0   \n",
       "2          0      1              0        0      1              0     0   \n",
       "3          1      0              0        1      0              0     0   \n",
       "4          1      0              0        1      0              0     0   \n",
       "\n",
       "   Braveheart  Green Mile  \n",
       "0           0           1  \n",
       "1           1           0  \n",
       "2           0           0  \n",
       "3           0           0  \n",
       "4           0           0  "
      ]
     },
     "execution_count": 4,
     "metadata": {},
     "output_type": "execute_result"
    }
   ],
   "source": [
    "# Import dataset\n",
    "df=pd.read_csv('E://EXCELR//Data science//Data science assignment//9) Association Rules//my_movies.csv')\n",
    "df.head()"
   ]
  },
  {
   "cell_type": "code",
   "execution_count": 5,
   "id": "2720ab37",
   "metadata": {},
   "outputs": [
    {
     "data": {
      "text/plain": [
       "(10, 15)"
      ]
     },
     "execution_count": 5,
     "metadata": {},
     "output_type": "execute_result"
    }
   ],
   "source": [
    "df.shape"
   ]
  },
  {
   "cell_type": "code",
   "execution_count": 6,
   "id": "1ac4cfe5",
   "metadata": {},
   "outputs": [
    {
     "data": {
      "text/html": [
       "<div>\n",
       "<style scoped>\n",
       "    .dataframe tbody tr th:only-of-type {\n",
       "        vertical-align: middle;\n",
       "    }\n",
       "\n",
       "    .dataframe tbody tr th {\n",
       "        vertical-align: top;\n",
       "    }\n",
       "\n",
       "    .dataframe thead th {\n",
       "        text-align: right;\n",
       "    }\n",
       "</style>\n",
       "<table border=\"1\" class=\"dataframe\">\n",
       "  <thead>\n",
       "    <tr style=\"text-align: right;\">\n",
       "      <th></th>\n",
       "      <th>Sixth Sense</th>\n",
       "      <th>Gladiator</th>\n",
       "      <th>LOTR1</th>\n",
       "      <th>Harry Potter1</th>\n",
       "      <th>Patriot</th>\n",
       "      <th>LOTR2</th>\n",
       "      <th>Harry Potter2</th>\n",
       "      <th>LOTR</th>\n",
       "      <th>Braveheart</th>\n",
       "      <th>Green Mile</th>\n",
       "    </tr>\n",
       "  </thead>\n",
       "  <tbody>\n",
       "    <tr>\n",
       "      <th>0</th>\n",
       "      <td>1</td>\n",
       "      <td>0</td>\n",
       "      <td>1</td>\n",
       "      <td>1</td>\n",
       "      <td>0</td>\n",
       "      <td>1</td>\n",
       "      <td>0</td>\n",
       "      <td>0</td>\n",
       "      <td>0</td>\n",
       "      <td>1</td>\n",
       "    </tr>\n",
       "    <tr>\n",
       "      <th>1</th>\n",
       "      <td>0</td>\n",
       "      <td>1</td>\n",
       "      <td>0</td>\n",
       "      <td>0</td>\n",
       "      <td>1</td>\n",
       "      <td>0</td>\n",
       "      <td>0</td>\n",
       "      <td>0</td>\n",
       "      <td>1</td>\n",
       "      <td>0</td>\n",
       "    </tr>\n",
       "    <tr>\n",
       "      <th>2</th>\n",
       "      <td>0</td>\n",
       "      <td>0</td>\n",
       "      <td>1</td>\n",
       "      <td>0</td>\n",
       "      <td>0</td>\n",
       "      <td>1</td>\n",
       "      <td>0</td>\n",
       "      <td>0</td>\n",
       "      <td>0</td>\n",
       "      <td>0</td>\n",
       "    </tr>\n",
       "    <tr>\n",
       "      <th>3</th>\n",
       "      <td>1</td>\n",
       "      <td>1</td>\n",
       "      <td>0</td>\n",
       "      <td>0</td>\n",
       "      <td>1</td>\n",
       "      <td>0</td>\n",
       "      <td>0</td>\n",
       "      <td>0</td>\n",
       "      <td>0</td>\n",
       "      <td>0</td>\n",
       "    </tr>\n",
       "    <tr>\n",
       "      <th>4</th>\n",
       "      <td>1</td>\n",
       "      <td>1</td>\n",
       "      <td>0</td>\n",
       "      <td>0</td>\n",
       "      <td>1</td>\n",
       "      <td>0</td>\n",
       "      <td>0</td>\n",
       "      <td>0</td>\n",
       "      <td>0</td>\n",
       "      <td>0</td>\n",
       "    </tr>\n",
       "  </tbody>\n",
       "</table>\n",
       "</div>"
      ],
      "text/plain": [
       "   Sixth Sense  Gladiator  LOTR1  Harry Potter1  Patriot  LOTR2  \\\n",
       "0            1          0      1              1        0      1   \n",
       "1            0          1      0              0        1      0   \n",
       "2            0          0      1              0        0      1   \n",
       "3            1          1      0              0        1      0   \n",
       "4            1          1      0              0        1      0   \n",
       "\n",
       "   Harry Potter2  LOTR  Braveheart  Green Mile  \n",
       "0              0     0           0           1  \n",
       "1              0     0           1           0  \n",
       "2              0     0           0           0  \n",
       "3              0     0           0           0  \n",
       "4              0     0           0           0  "
      ]
     },
     "execution_count": 6,
     "metadata": {},
     "output_type": "execute_result"
    }
   ],
   "source": [
    "df.drop(['V1','V2','V3','V4','V5'],axis=1,inplace=True)\n",
    "df.head()"
   ]
  },
  {
   "cell_type": "code",
   "execution_count": 7,
   "id": "80fef29d",
   "metadata": {},
   "outputs": [
    {
     "data": {
      "text/plain": [
       "Sixth Sense      6\n",
       "Gladiator        7\n",
       "LOTR1            2\n",
       "Harry Potter1    2\n",
       "Patriot          6\n",
       "LOTR2            2\n",
       "Harry Potter2    1\n",
       "LOTR             1\n",
       "Braveheart       1\n",
       "Green Mile       2\n",
       "dtype: int64"
      ]
     },
     "execution_count": 7,
     "metadata": {},
     "output_type": "execute_result"
    }
   ],
   "source": [
    "# creating total of each movie budget \n",
    "s=df.sum()\n",
    "s"
   ]
  },
  {
   "cell_type": "code",
   "execution_count": 8,
   "id": "151e4ada",
   "metadata": {},
   "outputs": [
    {
     "data": {
      "text/plain": [
       "<AxesSubplot:>"
      ]
     },
     "execution_count": 8,
     "metadata": {},
     "output_type": "execute_result"
    },
    {
     "data": {
      "image/png": "[encoded data removed]",
      "text/plain": [
       "<Figure size 640x480 with 1 Axes>"
      ]
     },
     "metadata": {},
     "output_type": "display_data"
    }
   ],
   "source": [
    "s.plot.bar()"
   ]
  },
  {
   "cell_type": "markdown",
   "id": "801eca4c",
   "metadata": {},
   "source": [
    "Since the gladiator and patriot are the top three most bought movies"
   ]
  },
  {
   "cell_type": "markdown",
   "id": "60d20aec",
   "metadata": {},
   "source": [
    "# 1) Apriori algorithm with iterating support values and min keeping confidenace = 0.5"
   ]
  },
  {
   "cell_type": "code",
   "execution_count": 42,
   "id": "317f7e2f",
   "metadata": {},
   "outputs": [],
   "source": [
    "import warnings\n",
    "warnings.filterwarnings(\"ignore\")\n"
   ]
  },
  {
   "cell_type": "code",
   "execution_count": 43,
   "id": "23af6eb4",
   "metadata": {},
   "outputs": [
    {
     "name": "stdout",
     "output_type": "stream",
     "text": [
      "Number of iterations: 41\n"
     ]
    }
   ],
   "source": [
    "min_support=[]\n",
    "len_rules=[]\n",
    "itemset=[]\n",
    "i=0\n",
    "\n",
    "for s in np.arange(0.01,0.420,0.010):\n",
    "    frequent_item = apriori(df, min_support=s, use_colnames=True)\n",
    "    rules = association_rules(frequent_item, metric=\"confidence\", min_threshold=0.5)\n",
    "    item_length=len(frequent_item)\n",
    "    rule_length=len(rules)\n",
    "    min_support.append(s)\n",
    "    len_rules.append(rule_length)\n",
    "    itemset.append(item_length)\n",
    "    i=i+1\n",
    "    \n",
    "print(\"Number of iterations:\",i)"
   ]
  },
  {
   "cell_type": "code",
   "execution_count": 10,
   "id": "c3286ca0",
   "metadata": {},
   "outputs": [
    {
     "data": {
      "text/html": [
       "<div>\n",
       "<style scoped>\n",
       "    .dataframe tbody tr th:only-of-type {\n",
       "        vertical-align: middle;\n",
       "    }\n",
       "\n",
       "    .dataframe tbody tr th {\n",
       "        vertical-align: top;\n",
       "    }\n",
       "\n",
       "    .dataframe thead th {\n",
       "        text-align: right;\n",
       "    }\n",
       "</style>\n",
       "<table border=\"1\" class=\"dataframe\">\n",
       "  <thead>\n",
       "    <tr style=\"text-align: right;\">\n",
       "      <th></th>\n",
       "      <th>Minimum support</th>\n",
       "      <th>Frequent itemsets</th>\n",
       "      <th>Association rules number</th>\n",
       "    </tr>\n",
       "  </thead>\n",
       "  <tbody>\n",
       "    <tr>\n",
       "      <th>0</th>\n",
       "      <td>0.01</td>\n",
       "      <td>53</td>\n",
       "      <td>216</td>\n",
       "    </tr>\n",
       "    <tr>\n",
       "      <th>1</th>\n",
       "      <td>0.02</td>\n",
       "      <td>53</td>\n",
       "      <td>216</td>\n",
       "    </tr>\n",
       "    <tr>\n",
       "      <th>2</th>\n",
       "      <td>0.03</td>\n",
       "      <td>53</td>\n",
       "      <td>216</td>\n",
       "    </tr>\n",
       "    <tr>\n",
       "      <th>3</th>\n",
       "      <td>0.04</td>\n",
       "      <td>53</td>\n",
       "      <td>216</td>\n",
       "    </tr>\n",
       "    <tr>\n",
       "      <th>4</th>\n",
       "      <td>0.05</td>\n",
       "      <td>53</td>\n",
       "      <td>216</td>\n",
       "    </tr>\n",
       "  </tbody>\n",
       "</table>\n",
       "</div>"
      ],
      "text/plain": [
       "   Minimum support  Frequent itemsets  Association rules number\n",
       "0             0.01                 53                       216\n",
       "1             0.02                 53                       216\n",
       "2             0.03                 53                       216\n",
       "3             0.04                 53                       216\n",
       "4             0.05                 53                       216"
      ]
     },
     "execution_count": 10,
     "metadata": {},
     "output_type": "execute_result"
    }
   ],
   "source": [
    "d={'Minimum support':min_support,'Frequent itemsets':itemset,'Association rules number':len_rules}\n",
    "sup_rules=pd.DataFrame(d)\n",
    "sup_rules.head()"
   ]
  },
  {
   "cell_type": "code",
   "execution_count": 11,
   "id": "d792263a",
   "metadata": {},
   "outputs": [
    {
     "data": {
      "text/plain": [
       "(0.0, 226.6)"
      ]
     },
     "execution_count": 11,
     "metadata": {},
     "output_type": "execute_result"
    },
    {
     "data": {
      "image/png": "[encoded data removed]",
      "text/plain": [
       "<Figure size 640x480 with 1 Axes>"
      ]
     },
     "metadata": {},
     "output_type": "display_data"
    }
   ],
   "source": [
    "sns.lineplot(data=sup_rules, x=\"Minimum support\", y=\"Association rules number\")\n",
    "plt.xlim(0,)\n",
    "plt.ylim(0,)\n"
   ]
  },
  {
   "cell_type": "markdown",
   "id": "9b5c8fa3",
   "metadata": {},
   "source": [
    "The graph shows that association rules remained constant with increasing support values till support=0.01.Beyond this value, the association rules drastically decreased to around 10 and beyond support value of 0.40 ,no association rules were formed.\n",
    "\n"
   ]
  },
  {
   "cell_type": "markdown",
   "id": "6f3b2556",
   "metadata": {},
   "source": [
    "# Apriori algorithm with itearating confidence values and min support = 0.001"
   ]
  },
  {
   "cell_type": "code",
   "execution_count": 44,
   "id": "b4b6efb8",
   "metadata": {},
   "outputs": [
    {
     "name": "stdout",
     "output_type": "stream",
     "text": [
      "Number of iterations: 37\n"
     ]
    }
   ],
   "source": [
    "min_conf=[]\n",
    "len_rules=[]\n",
    "itemset=[]\n",
    "i=0\n",
    "\n",
    "for t in np.arange(0.1,1.025,0.025):\n",
    "    frequent_item = apriori(df, min_support=0.01, use_colnames=True)\n",
    "    rules = association_rules(frequent_item, metric=\"confidence\", min_threshold=t)\n",
    "    item_length=len(frequent_item)\n",
    "    rule_length=len(rules)\n",
    "    min_conf.append(t)\n",
    "    len_rules.append(rule_length)\n",
    "    itemset.append(item_length)\n",
    "    i=i+1\n",
    "    \n",
    "print(\"Number of iterations:\",i)"
   ]
  },
  {
   "cell_type": "code",
   "execution_count": 13,
   "id": "c81d3e2f",
   "metadata": {},
   "outputs": [
    {
     "data": {
      "text/html": [
       "<div>\n",
       "<style scoped>\n",
       "    .dataframe tbody tr th:only-of-type {\n",
       "        vertical-align: middle;\n",
       "    }\n",
       "\n",
       "    .dataframe tbody tr th {\n",
       "        vertical-align: top;\n",
       "    }\n",
       "\n",
       "    .dataframe thead th {\n",
       "        text-align: right;\n",
       "    }\n",
       "</style>\n",
       "<table border=\"1\" class=\"dataframe\">\n",
       "  <thead>\n",
       "    <tr style=\"text-align: right;\">\n",
       "      <th></th>\n",
       "      <th>Minimum confidence</th>\n",
       "      <th>Frequent itemsets</th>\n",
       "      <th>Association rules number</th>\n",
       "    </tr>\n",
       "  </thead>\n",
       "  <tbody>\n",
       "    <tr>\n",
       "      <th>0</th>\n",
       "      <td>0.100</td>\n",
       "      <td>53</td>\n",
       "      <td>250</td>\n",
       "    </tr>\n",
       "    <tr>\n",
       "      <th>1</th>\n",
       "      <td>0.125</td>\n",
       "      <td>53</td>\n",
       "      <td>250</td>\n",
       "    </tr>\n",
       "    <tr>\n",
       "      <th>2</th>\n",
       "      <td>0.150</td>\n",
       "      <td>53</td>\n",
       "      <td>242</td>\n",
       "    </tr>\n",
       "    <tr>\n",
       "      <th>3</th>\n",
       "      <td>0.175</td>\n",
       "      <td>53</td>\n",
       "      <td>220</td>\n",
       "    </tr>\n",
       "    <tr>\n",
       "      <th>4</th>\n",
       "      <td>0.200</td>\n",
       "      <td>53</td>\n",
       "      <td>220</td>\n",
       "    </tr>\n",
       "  </tbody>\n",
       "</table>\n",
       "</div>"
      ],
      "text/plain": [
       "   Minimum confidence  Frequent itemsets  Association rules number\n",
       "0               0.100                 53                       250\n",
       "1               0.125                 53                       250\n",
       "2               0.150                 53                       242\n",
       "3               0.175                 53                       220\n",
       "4               0.200                 53                       220"
      ]
     },
     "execution_count": 13,
     "metadata": {},
     "output_type": "execute_result"
    }
   ],
   "source": [
    "c={'Minimum confidence':min_conf,'Frequent itemsets':itemset,'Association rules number':len_rules}\n",
    "conf_rules=pd.DataFrame(c)\n",
    "conf_rules.head()"
   ]
  },
  {
   "cell_type": "code",
   "execution_count": 14,
   "id": "9f7983a9",
   "metadata": {},
   "outputs": [
    {
     "data": {
      "text/plain": [
       "<AxesSubplot:xlabel='Minimum confidence', ylabel='Association rules number'>"
      ]
     },
     "execution_count": 14,
     "metadata": {},
     "output_type": "execute_result"
    },
    {
     "data": {
      "image/png": "[encoded data removed]",
      "text/plain": [
       "<Figure size 640x480 with 1 Axes>"
      ]
     },
     "metadata": {},
     "output_type": "display_data"
    }
   ],
   "source": [
    "sns.lineplot(data=conf_rules, x=\"Minimum confidence\", y=\"Association rules number\")"
   ]
  },
  {
   "cell_type": "markdown",
   "id": "0f1f52b7",
   "metadata": {},
   "source": [
    " Changing min length in apriori algorithm and observing the changes in number of assocaition ruls formed"
   ]
  },
  {
   "cell_type": "code",
   "execution_count": 45,
   "id": "c309ef63",
   "metadata": {},
   "outputs": [
    {
     "name": "stdout",
     "output_type": "stream",
     "text": [
      "Number of iterations: 59\n"
     ]
    }
   ],
   "source": [
    "k_itemset=[]\n",
    "len_rules=[]\n",
    "itemset=[]\n",
    "i=0\n",
    "\n",
    "for l in range(1,60):\n",
    "    frequent_item = apriori(df, max_len=l,min_support=0.01, use_colnames=True)\n",
    "    rules = association_rules(frequent_item, metric=\"confidence\", min_threshold=0.5)\n",
    "    item_length=len(frequent_item)\n",
    "    rule_length=len(rules)\n",
    "    k_itemset.append(l)\n",
    "    len_rules.append(rule_length)\n",
    "    itemset.append(item_length)\n",
    "    i=i+1\n",
    "    \n",
    "print(\"Number of iterations:\",i)"
   ]
  },
  {
   "cell_type": "code",
   "execution_count": 18,
   "id": "064f36dc",
   "metadata": {},
   "outputs": [
    {
     "data": {
      "text/html": [
       "<div>\n",
       "<style scoped>\n",
       "    .dataframe tbody tr th:only-of-type {\n",
       "        vertical-align: middle;\n",
       "    }\n",
       "\n",
       "    .dataframe tbody tr th {\n",
       "        vertical-align: top;\n",
       "    }\n",
       "\n",
       "    .dataframe thead th {\n",
       "        text-align: right;\n",
       "    }\n",
       "</style>\n",
       "<table border=\"1\" class=\"dataframe\">\n",
       "  <thead>\n",
       "    <tr style=\"text-align: right;\">\n",
       "      <th></th>\n",
       "      <th>Length_itemset</th>\n",
       "      <th>Frequent itemsets</th>\n",
       "      <th>Association rules number</th>\n",
       "    </tr>\n",
       "  </thead>\n",
       "  <tbody>\n",
       "    <tr>\n",
       "      <th>0</th>\n",
       "      <td>1</td>\n",
       "      <td>10</td>\n",
       "      <td>0</td>\n",
       "    </tr>\n",
       "    <tr>\n",
       "      <th>1</th>\n",
       "      <td>2</td>\n",
       "      <td>30</td>\n",
       "      <td>31</td>\n",
       "    </tr>\n",
       "    <tr>\n",
       "      <th>2</th>\n",
       "      <td>3</td>\n",
       "      <td>46</td>\n",
       "      <td>110</td>\n",
       "    </tr>\n",
       "    <tr>\n",
       "      <th>3</th>\n",
       "      <td>4</td>\n",
       "      <td>52</td>\n",
       "      <td>187</td>\n",
       "    </tr>\n",
       "    <tr>\n",
       "      <th>4</th>\n",
       "      <td>5</td>\n",
       "      <td>53</td>\n",
       "      <td>216</td>\n",
       "    </tr>\n",
       "  </tbody>\n",
       "</table>\n",
       "</div>"
      ],
      "text/plain": [
       "   Length_itemset  Frequent itemsets  Association rules number\n",
       "0               1                 10                         0\n",
       "1               2                 30                        31\n",
       "2               3                 46                       110\n",
       "3               4                 52                       187\n",
       "4               5                 53                       216"
      ]
     },
     "execution_count": 18,
     "metadata": {},
     "output_type": "execute_result"
    }
   ],
   "source": [
    "a={'Length_itemset':k_itemset,'Frequent itemsets':itemset,'Association rules number':len_rules}\n",
    "itemset_rules=pd.DataFrame(a)\n",
    "itemset_rules.head()\n"
   ]
  },
  {
   "cell_type": "code",
   "execution_count": 19,
   "id": "3dbbb8d4",
   "metadata": {},
   "outputs": [
    {
     "data": {
      "text/plain": [
       "(0.0, 226.8)"
      ]
     },
     "execution_count": 19,
     "metadata": {},
     "output_type": "execute_result"
    },
    {
     "data": {
      "image/png": "[encoded data removed]",
      "text/plain": [
       "<Figure size 640x480 with 1 Axes>"
      ]
     },
     "metadata": {},
     "output_type": "display_data"
    }
   ],
   "source": [
    "sns.lineplot(data=itemset_rules, x=\"Length_itemset\", y=\"Association rules number\")\n",
    "plt.xlim(1,60)\n",
    "plt.ylim(0,)\n"
   ]
  },
  {
   "cell_type": "markdown",
   "id": "11590b28",
   "metadata": {},
   "source": [
    "# Association rules generation by running Apriori with min support = 0.01 and min confidence = 0.5"
   ]
  },
  {
   "cell_type": "code",
   "execution_count": 20,
   "id": "dfdc892b",
   "metadata": {},
   "outputs": [
    {
     "name": "stderr",
     "output_type": "stream",
     "text": [
      "C:\\Users\\91771\\anaconda3\\lib\\site-packages\\mlxtend\\frequent_patterns\\fpcommon.py:109: DeprecationWarning: DataFrames with non-bool types result in worse computationalperformance and their support might be discontinued in the future.Please use a DataFrame with bool type\n",
      "  warnings.warn(\n"
     ]
    },
    {
     "data": {
      "text/html": [
       "<div>\n",
       "<style scoped>\n",
       "    .dataframe tbody tr th:only-of-type {\n",
       "        vertical-align: middle;\n",
       "    }\n",
       "\n",
       "    .dataframe tbody tr th {\n",
       "        vertical-align: top;\n",
       "    }\n",
       "\n",
       "    .dataframe thead th {\n",
       "        text-align: right;\n",
       "    }\n",
       "</style>\n",
       "<table border=\"1\" class=\"dataframe\">\n",
       "  <thead>\n",
       "    <tr style=\"text-align: right;\">\n",
       "      <th></th>\n",
       "      <th>support</th>\n",
       "      <th>itemsets</th>\n",
       "    </tr>\n",
       "  </thead>\n",
       "  <tbody>\n",
       "    <tr>\n",
       "      <th>0</th>\n",
       "      <td>0.6</td>\n",
       "      <td>(Sixth Sense)</td>\n",
       "    </tr>\n",
       "    <tr>\n",
       "      <th>1</th>\n",
       "      <td>0.7</td>\n",
       "      <td>(Gladiator)</td>\n",
       "    </tr>\n",
       "    <tr>\n",
       "      <th>2</th>\n",
       "      <td>0.2</td>\n",
       "      <td>(LOTR1)</td>\n",
       "    </tr>\n",
       "    <tr>\n",
       "      <th>3</th>\n",
       "      <td>0.2</td>\n",
       "      <td>(Harry Potter1)</td>\n",
       "    </tr>\n",
       "    <tr>\n",
       "      <th>4</th>\n",
       "      <td>0.6</td>\n",
       "      <td>(Patriot)</td>\n",
       "    </tr>\n",
       "  </tbody>\n",
       "</table>\n",
       "</div>"
      ],
      "text/plain": [
       "   support         itemsets\n",
       "0      0.6    (Sixth Sense)\n",
       "1      0.7      (Gladiator)\n",
       "2      0.2          (LOTR1)\n",
       "3      0.2  (Harry Potter1)\n",
       "4      0.6        (Patriot)"
      ]
     },
     "execution_count": 20,
     "metadata": {},
     "output_type": "execute_result"
    }
   ],
   "source": [
    "# generating frequent itemset\n",
    "frequent_itemsets= apriori(df, min_support=0.01, use_colnames=True)\n",
    "frequent_itemsets.head()"
   ]
  },
  {
   "cell_type": "code",
   "execution_count": 21,
   "id": "6a148890",
   "metadata": {},
   "outputs": [
    {
     "name": "stdout",
     "output_type": "stream",
     "text": [
      "Number of frequent itemsets generated with min support=0.1 is: 53\n"
     ]
    }
   ],
   "source": [
    "print(\"Number of frequent itemsets generated with min support=0.1 is:\",(frequent_itemsets.shape[0]))\n"
   ]
  },
  {
   "cell_type": "code",
   "execution_count": 22,
   "id": "5a0c7d64",
   "metadata": {},
   "outputs": [],
   "source": [
    "# adding a length column which stores the length of item sets generated\n",
    "frequent_itemsets['length'] = frequent_itemsets['itemsets'].apply(lambda x: len(x))\n"
   ]
  },
  {
   "cell_type": "code",
   "execution_count": 23,
   "id": "d5ab54d6",
   "metadata": {},
   "outputs": [
    {
     "data": {
      "text/html": [
       "<div>\n",
       "<style scoped>\n",
       "    .dataframe tbody tr th:only-of-type {\n",
       "        vertical-align: middle;\n",
       "    }\n",
       "\n",
       "    .dataframe tbody tr th {\n",
       "        vertical-align: top;\n",
       "    }\n",
       "\n",
       "    .dataframe thead th {\n",
       "        text-align: right;\n",
       "    }\n",
       "</style>\n",
       "<table border=\"1\" class=\"dataframe\">\n",
       "  <thead>\n",
       "    <tr style=\"text-align: right;\">\n",
       "      <th></th>\n",
       "      <th>support</th>\n",
       "      <th>itemsets</th>\n",
       "      <th>length</th>\n",
       "    </tr>\n",
       "  </thead>\n",
       "  <tbody>\n",
       "    <tr>\n",
       "      <th>0</th>\n",
       "      <td>0.6</td>\n",
       "      <td>(Sixth Sense)</td>\n",
       "      <td>1</td>\n",
       "    </tr>\n",
       "    <tr>\n",
       "      <th>1</th>\n",
       "      <td>0.7</td>\n",
       "      <td>(Gladiator)</td>\n",
       "      <td>1</td>\n",
       "    </tr>\n",
       "    <tr>\n",
       "      <th>2</th>\n",
       "      <td>0.2</td>\n",
       "      <td>(LOTR1)</td>\n",
       "      <td>1</td>\n",
       "    </tr>\n",
       "    <tr>\n",
       "      <th>3</th>\n",
       "      <td>0.2</td>\n",
       "      <td>(Harry Potter1)</td>\n",
       "      <td>1</td>\n",
       "    </tr>\n",
       "    <tr>\n",
       "      <th>4</th>\n",
       "      <td>0.6</td>\n",
       "      <td>(Patriot)</td>\n",
       "      <td>1</td>\n",
       "    </tr>\n",
       "  </tbody>\n",
       "</table>\n",
       "</div>"
      ],
      "text/plain": [
       "   support         itemsets  length\n",
       "0      0.6    (Sixth Sense)       1\n",
       "1      0.7      (Gladiator)       1\n",
       "2      0.2          (LOTR1)       1\n",
       "3      0.2  (Harry Potter1)       1\n",
       "4      0.6        (Patriot)       1"
      ]
     },
     "execution_count": 23,
     "metadata": {},
     "output_type": "execute_result"
    }
   ],
   "source": [
    "frequent_itemsets.head()"
   ]
  },
  {
   "cell_type": "code",
   "execution_count": 24,
   "id": "84b3d24d",
   "metadata": {},
   "outputs": [
    {
     "data": {
      "text/plain": [
       "2    20\n",
       "3    16\n",
       "1    10\n",
       "4     6\n",
       "5     1\n",
       "Name: length, dtype: int64"
      ]
     },
     "execution_count": 24,
     "metadata": {},
     "output_type": "execute_result"
    }
   ],
   "source": [
    "# checking the number of frequent itemsets generated for each length\n",
    "frequent_itemsets['length'].value_counts()"
   ]
  },
  {
   "cell_type": "markdown",
   "id": "f215bb39",
   "metadata": {},
   "source": [
    "Max number of frequent sets belong to  length  2 "
   ]
  },
  {
   "cell_type": "code",
   "execution_count": 25,
   "id": "c3d4653d",
   "metadata": {},
   "outputs": [
    {
     "data": {
      "text/html": [
       "<div>\n",
       "<style scoped>\n",
       "    .dataframe tbody tr th:only-of-type {\n",
       "        vertical-align: middle;\n",
       "    }\n",
       "\n",
       "    .dataframe tbody tr th {\n",
       "        vertical-align: top;\n",
       "    }\n",
       "\n",
       "    .dataframe thead th {\n",
       "        text-align: right;\n",
       "    }\n",
       "</style>\n",
       "<table border=\"1\" class=\"dataframe\">\n",
       "  <thead>\n",
       "    <tr style=\"text-align: right;\">\n",
       "      <th></th>\n",
       "      <th>antecedents</th>\n",
       "      <th>consequents</th>\n",
       "      <th>antecedent support</th>\n",
       "      <th>consequent support</th>\n",
       "      <th>support</th>\n",
       "      <th>confidence</th>\n",
       "      <th>lift</th>\n",
       "      <th>leverage</th>\n",
       "      <th>conviction</th>\n",
       "      <th>zhangs_metric</th>\n",
       "    </tr>\n",
       "  </thead>\n",
       "  <tbody>\n",
       "    <tr>\n",
       "      <th>0</th>\n",
       "      <td>(Gladiator)</td>\n",
       "      <td>(Sixth Sense)</td>\n",
       "      <td>0.7</td>\n",
       "      <td>0.6</td>\n",
       "      <td>0.5</td>\n",
       "      <td>0.714286</td>\n",
       "      <td>1.190476</td>\n",
       "      <td>0.08</td>\n",
       "      <td>1.4</td>\n",
       "      <td>0.533333</td>\n",
       "    </tr>\n",
       "    <tr>\n",
       "      <th>1</th>\n",
       "      <td>(Sixth Sense)</td>\n",
       "      <td>(Gladiator)</td>\n",
       "      <td>0.6</td>\n",
       "      <td>0.7</td>\n",
       "      <td>0.5</td>\n",
       "      <td>0.833333</td>\n",
       "      <td>1.190476</td>\n",
       "      <td>0.08</td>\n",
       "      <td>1.8</td>\n",
       "      <td>0.400000</td>\n",
       "    </tr>\n",
       "    <tr>\n",
       "      <th>2</th>\n",
       "      <td>(LOTR1)</td>\n",
       "      <td>(Sixth Sense)</td>\n",
       "      <td>0.2</td>\n",
       "      <td>0.6</td>\n",
       "      <td>0.1</td>\n",
       "      <td>0.500000</td>\n",
       "      <td>0.833333</td>\n",
       "      <td>-0.02</td>\n",
       "      <td>0.8</td>\n",
       "      <td>-0.200000</td>\n",
       "    </tr>\n",
       "    <tr>\n",
       "      <th>3</th>\n",
       "      <td>(Harry Potter1)</td>\n",
       "      <td>(Sixth Sense)</td>\n",
       "      <td>0.2</td>\n",
       "      <td>0.6</td>\n",
       "      <td>0.1</td>\n",
       "      <td>0.500000</td>\n",
       "      <td>0.833333</td>\n",
       "      <td>-0.02</td>\n",
       "      <td>0.8</td>\n",
       "      <td>-0.200000</td>\n",
       "    </tr>\n",
       "    <tr>\n",
       "      <th>4</th>\n",
       "      <td>(Patriot)</td>\n",
       "      <td>(Sixth Sense)</td>\n",
       "      <td>0.6</td>\n",
       "      <td>0.6</td>\n",
       "      <td>0.4</td>\n",
       "      <td>0.666667</td>\n",
       "      <td>1.111111</td>\n",
       "      <td>0.04</td>\n",
       "      <td>1.2</td>\n",
       "      <td>0.250000</td>\n",
       "    </tr>\n",
       "  </tbody>\n",
       "</table>\n",
       "</div>"
      ],
      "text/plain": [
       "       antecedents    consequents  antecedent support  consequent support  \\\n",
       "0      (Gladiator)  (Sixth Sense)                 0.7                 0.6   \n",
       "1    (Sixth Sense)    (Gladiator)                 0.6                 0.7   \n",
       "2          (LOTR1)  (Sixth Sense)                 0.2                 0.6   \n",
       "3  (Harry Potter1)  (Sixth Sense)                 0.2                 0.6   \n",
       "4        (Patriot)  (Sixth Sense)                 0.6                 0.6   \n",
       "\n",
       "   support  confidence      lift  leverage  conviction  zhangs_metric  \n",
       "0      0.5    0.714286  1.190476      0.08         1.4       0.533333  \n",
       "1      0.5    0.833333  1.190476      0.08         1.8       0.400000  \n",
       "2      0.1    0.500000  0.833333     -0.02         0.8      -0.200000  \n",
       "3      0.1    0.500000  0.833333     -0.02         0.8      -0.200000  \n",
       "4      0.4    0.666667  1.111111      0.04         1.2       0.250000  "
      ]
     },
     "execution_count": 25,
     "metadata": {},
     "output_type": "execute_result"
    }
   ],
   "source": [
    "rules = association_rules(frequent_itemsets,metric=\"confidence\", min_threshold=0.5)\n",
    "rules.head()"
   ]
  },
  {
   "cell_type": "code",
   "execution_count": 26,
   "id": "256739f3",
   "metadata": {},
   "outputs": [
    {
     "name": "stderr",
     "output_type": "stream",
     "text": [
      "C:\\Users\\91771\\anaconda3\\lib\\site-packages\\numpy\\lib\\function_base.py:4009: RuntimeWarning: invalid value encountered in subtract\n",
      "  diff_b_a = subtract(b, a)\n"
     ]
    },
    {
     "data": {
      "text/html": [
       "<div>\n",
       "<style scoped>\n",
       "    .dataframe tbody tr th:only-of-type {\n",
       "        vertical-align: middle;\n",
       "    }\n",
       "\n",
       "    .dataframe tbody tr th {\n",
       "        vertical-align: top;\n",
       "    }\n",
       "\n",
       "    .dataframe thead th {\n",
       "        text-align: right;\n",
       "    }\n",
       "</style>\n",
       "<table border=\"1\" class=\"dataframe\">\n",
       "  <thead>\n",
       "    <tr style=\"text-align: right;\">\n",
       "      <th></th>\n",
       "      <th>antecedent support</th>\n",
       "      <th>consequent support</th>\n",
       "      <th>support</th>\n",
       "      <th>confidence</th>\n",
       "      <th>lift</th>\n",
       "      <th>leverage</th>\n",
       "      <th>conviction</th>\n",
       "      <th>zhangs_metric</th>\n",
       "    </tr>\n",
       "  </thead>\n",
       "  <tbody>\n",
       "    <tr>\n",
       "      <th>count</th>\n",
       "      <td>216.000000</td>\n",
       "      <td>216.000000</td>\n",
       "      <td>216.000000</td>\n",
       "      <td>216.000000</td>\n",
       "      <td>216.000000</td>\n",
       "      <td>216.000000</td>\n",
       "      <td>216.0</td>\n",
       "      <td>216.000000</td>\n",
       "    </tr>\n",
       "    <tr>\n",
       "      <th>mean</th>\n",
       "      <td>0.166667</td>\n",
       "      <td>0.243981</td>\n",
       "      <td>0.120833</td>\n",
       "      <td>0.799118</td>\n",
       "      <td>4.954659</td>\n",
       "      <td>0.073056</td>\n",
       "      <td>inf</td>\n",
       "      <td>0.810995</td>\n",
       "    </tr>\n",
       "    <tr>\n",
       "      <th>std</th>\n",
       "      <td>0.117335</td>\n",
       "      <td>0.198508</td>\n",
       "      <td>0.082863</td>\n",
       "      <td>0.240568</td>\n",
       "      <td>2.879200</td>\n",
       "      <td>0.027835</td>\n",
       "      <td>NaN</td>\n",
       "      <td>0.281314</td>\n",
       "    </tr>\n",
       "    <tr>\n",
       "      <th>min</th>\n",
       "      <td>0.100000</td>\n",
       "      <td>0.100000</td>\n",
       "      <td>0.100000</td>\n",
       "      <td>0.500000</td>\n",
       "      <td>0.714286</td>\n",
       "      <td>-0.040000</td>\n",
       "      <td>0.6</td>\n",
       "      <td>-0.333333</td>\n",
       "    </tr>\n",
       "    <tr>\n",
       "      <th>25%</th>\n",
       "      <td>0.100000</td>\n",
       "      <td>0.100000</td>\n",
       "      <td>0.100000</td>\n",
       "      <td>0.500000</td>\n",
       "      <td>2.500000</td>\n",
       "      <td>0.060000</td>\n",
       "      <td>1.8</td>\n",
       "      <td>0.750000</td>\n",
       "    </tr>\n",
       "    <tr>\n",
       "      <th>50%</th>\n",
       "      <td>0.100000</td>\n",
       "      <td>0.200000</td>\n",
       "      <td>0.100000</td>\n",
       "      <td>1.000000</td>\n",
       "      <td>5.000000</td>\n",
       "      <td>0.080000</td>\n",
       "      <td>NaN</td>\n",
       "      <td>0.888889</td>\n",
       "    </tr>\n",
       "    <tr>\n",
       "      <th>75%</th>\n",
       "      <td>0.200000</td>\n",
       "      <td>0.200000</td>\n",
       "      <td>0.100000</td>\n",
       "      <td>1.000000</td>\n",
       "      <td>5.000000</td>\n",
       "      <td>0.080000</td>\n",
       "      <td>NaN</td>\n",
       "      <td>1.000000</td>\n",
       "    </tr>\n",
       "    <tr>\n",
       "      <th>max</th>\n",
       "      <td>0.700000</td>\n",
       "      <td>0.700000</td>\n",
       "      <td>0.600000</td>\n",
       "      <td>1.000000</td>\n",
       "      <td>10.000000</td>\n",
       "      <td>0.180000</td>\n",
       "      <td>inf</td>\n",
       "      <td>1.000000</td>\n",
       "    </tr>\n",
       "  </tbody>\n",
       "</table>\n",
       "</div>"
      ],
      "text/plain": [
       "       antecedent support  consequent support     support  confidence  \\\n",
       "count          216.000000          216.000000  216.000000  216.000000   \n",
       "mean             0.166667            0.243981    0.120833    0.799118   \n",
       "std              0.117335            0.198508    0.082863    0.240568   \n",
       "min              0.100000            0.100000    0.100000    0.500000   \n",
       "25%              0.100000            0.100000    0.100000    0.500000   \n",
       "50%              0.100000            0.200000    0.100000    1.000000   \n",
       "75%              0.200000            0.200000    0.100000    1.000000   \n",
       "max              0.700000            0.700000    0.600000    1.000000   \n",
       "\n",
       "             lift    leverage  conviction  zhangs_metric  \n",
       "count  216.000000  216.000000       216.0     216.000000  \n",
       "mean     4.954659    0.073056         inf       0.810995  \n",
       "std      2.879200    0.027835         NaN       0.281314  \n",
       "min      0.714286   -0.040000         0.6      -0.333333  \n",
       "25%      2.500000    0.060000         1.8       0.750000  \n",
       "50%      5.000000    0.080000         NaN       0.888889  \n",
       "75%      5.000000    0.080000         NaN       1.000000  \n",
       "max     10.000000    0.180000         inf       1.000000  "
      ]
     },
     "execution_count": 26,
     "metadata": {},
     "output_type": "execute_result"
    }
   ],
   "source": [
    "rules.describe()"
   ]
  },
  {
   "cell_type": "code",
   "execution_count": 27,
   "id": "d7dae731",
   "metadata": {},
   "outputs": [
    {
     "name": "stdout",
     "output_type": "stream",
     "text": [
      "Total number of association rules generated with min support=0.01 and min confidence=0.5 is: 216\n"
     ]
    }
   ],
   "source": [
    "print(\"Total number of association rules generated with min support=0.01 and min confidence=0.5 is:\",(rules.shape[0]))\n"
   ]
  },
  {
   "cell_type": "markdown",
   "id": "05084c6e",
   "metadata": {},
   "source": [
    "# Visualization of Association rules"
   ]
  },
  {
   "cell_type": "markdown",
   "id": "5d93b239",
   "metadata": {},
   "source": [
    "# 1) Scatter Plot"
   ]
  },
  {
   "cell_type": "code",
   "execution_count": 28,
   "id": "93267486",
   "metadata": {},
   "outputs": [
    {
     "data": {
      "image/png": "[encoded data removed]",
      "text/plain": [
       "<Figure size 1200x700 with 2 Axes>"
      ]
     },
     "metadata": {},
     "output_type": "display_data"
    }
   ],
   "source": [
    "fig, axes = plt.subplots(1,2, figsize=(12,7))\n",
    "fig.suptitle('Scatter Plot')\n",
    "\n",
    "sns.scatterplot(ax=axes[0],x='antecedent support',y='consequent support',hue='confidence',data=rules)\n",
    "axes[0].set_title('Confidence')\n",
    "\n",
    "sns.scatterplot(ax=axes[1],x='antecedent support',y='consequent support',hue='lift',data=rules)\n",
    "axes[1].set_title('Lift')\n",
    "\n",
    "plt.subplots_adjust(wspace=0.4)\n",
    "plt.show()"
   ]
  },
  {
   "cell_type": "markdown",
   "id": "f4e9edca",
   "metadata": {},
   "source": [
    "# 2) Heat Map"
   ]
  },
  {
   "cell_type": "code",
   "execution_count": 29,
   "id": "d678d2f4",
   "metadata": {},
   "outputs": [],
   "source": [
    "rules_map=rules.copy()"
   ]
  },
  {
   "cell_type": "code",
   "execution_count": 30,
   "id": "0f226486",
   "metadata": {},
   "outputs": [],
   "source": [
    "# selecting rules with high confidence,lift and support\n",
    "rules_map=rules_map.loc[(rules_map['lift']>9)& (rules_map['confidence']>0.8)& (rules_map['support']>0.05)]\n"
   ]
  },
  {
   "cell_type": "code",
   "execution_count": 31,
   "id": "0121d812",
   "metadata": {},
   "outputs": [],
   "source": [
    "rules_map.reset_index(drop=True,inplace=True)\n"
   ]
  },
  {
   "cell_type": "code",
   "execution_count": 32,
   "id": "629abc74",
   "metadata": {},
   "outputs": [
    {
     "data": {
      "text/html": [
       "<div>\n",
       "<style scoped>\n",
       "    .dataframe tbody tr th:only-of-type {\n",
       "        vertical-align: middle;\n",
       "    }\n",
       "\n",
       "    .dataframe tbody tr th {\n",
       "        vertical-align: top;\n",
       "    }\n",
       "\n",
       "    .dataframe thead th {\n",
       "        text-align: right;\n",
       "    }\n",
       "</style>\n",
       "<table border=\"1\" class=\"dataframe\">\n",
       "  <thead>\n",
       "    <tr style=\"text-align: right;\">\n",
       "      <th></th>\n",
       "      <th>antecedents</th>\n",
       "      <th>consequents</th>\n",
       "      <th>antecedent support</th>\n",
       "      <th>consequent support</th>\n",
       "      <th>support</th>\n",
       "      <th>confidence</th>\n",
       "      <th>lift</th>\n",
       "      <th>leverage</th>\n",
       "      <th>conviction</th>\n",
       "      <th>zhangs_metric</th>\n",
       "    </tr>\n",
       "  </thead>\n",
       "  <tbody>\n",
       "    <tr>\n",
       "      <th>0</th>\n",
       "      <td>(Gladiator, Green Mile)</td>\n",
       "      <td>(LOTR)</td>\n",
       "      <td>0.1</td>\n",
       "      <td>0.1</td>\n",
       "      <td>0.1</td>\n",
       "      <td>1.0</td>\n",
       "      <td>10.0</td>\n",
       "      <td>0.09</td>\n",
       "      <td>inf</td>\n",
       "      <td>1.0</td>\n",
       "    </tr>\n",
       "    <tr>\n",
       "      <th>1</th>\n",
       "      <td>(LOTR)</td>\n",
       "      <td>(Gladiator, Green Mile)</td>\n",
       "      <td>0.1</td>\n",
       "      <td>0.1</td>\n",
       "      <td>0.1</td>\n",
       "      <td>1.0</td>\n",
       "      <td>10.0</td>\n",
       "      <td>0.09</td>\n",
       "      <td>inf</td>\n",
       "      <td>1.0</td>\n",
       "    </tr>\n",
       "    <tr>\n",
       "      <th>2</th>\n",
       "      <td>(Gladiator, Green Mile, Sixth Sense)</td>\n",
       "      <td>(LOTR)</td>\n",
       "      <td>0.1</td>\n",
       "      <td>0.1</td>\n",
       "      <td>0.1</td>\n",
       "      <td>1.0</td>\n",
       "      <td>10.0</td>\n",
       "      <td>0.09</td>\n",
       "      <td>inf</td>\n",
       "      <td>1.0</td>\n",
       "    </tr>\n",
       "    <tr>\n",
       "      <th>3</th>\n",
       "      <td>(Gladiator, Green Mile)</td>\n",
       "      <td>(Sixth Sense, LOTR)</td>\n",
       "      <td>0.1</td>\n",
       "      <td>0.1</td>\n",
       "      <td>0.1</td>\n",
       "      <td>1.0</td>\n",
       "      <td>10.0</td>\n",
       "      <td>0.09</td>\n",
       "      <td>inf</td>\n",
       "      <td>1.0</td>\n",
       "    </tr>\n",
       "    <tr>\n",
       "      <th>4</th>\n",
       "      <td>(Sixth Sense, LOTR)</td>\n",
       "      <td>(Gladiator, Green Mile)</td>\n",
       "      <td>0.1</td>\n",
       "      <td>0.1</td>\n",
       "      <td>0.1</td>\n",
       "      <td>1.0</td>\n",
       "      <td>10.0</td>\n",
       "      <td>0.09</td>\n",
       "      <td>inf</td>\n",
       "      <td>1.0</td>\n",
       "    </tr>\n",
       "    <tr>\n",
       "      <th>5</th>\n",
       "      <td>(LOTR)</td>\n",
       "      <td>(Gladiator, Green Mile, Sixth Sense)</td>\n",
       "      <td>0.1</td>\n",
       "      <td>0.1</td>\n",
       "      <td>0.1</td>\n",
       "      <td>1.0</td>\n",
       "      <td>10.0</td>\n",
       "      <td>0.09</td>\n",
       "      <td>inf</td>\n",
       "      <td>1.0</td>\n",
       "    </tr>\n",
       "    <tr>\n",
       "      <th>6</th>\n",
       "      <td>(Harry Potter1, LOTR1)</td>\n",
       "      <td>(LOTR2, Sixth Sense)</td>\n",
       "      <td>0.1</td>\n",
       "      <td>0.1</td>\n",
       "      <td>0.1</td>\n",
       "      <td>1.0</td>\n",
       "      <td>10.0</td>\n",
       "      <td>0.09</td>\n",
       "      <td>inf</td>\n",
       "      <td>1.0</td>\n",
       "    </tr>\n",
       "    <tr>\n",
       "      <th>7</th>\n",
       "      <td>(Harry Potter1, LOTR2)</td>\n",
       "      <td>(LOTR1, Sixth Sense)</td>\n",
       "      <td>0.1</td>\n",
       "      <td>0.1</td>\n",
       "      <td>0.1</td>\n",
       "      <td>1.0</td>\n",
       "      <td>10.0</td>\n",
       "      <td>0.09</td>\n",
       "      <td>inf</td>\n",
       "      <td>1.0</td>\n",
       "    </tr>\n",
       "    <tr>\n",
       "      <th>8</th>\n",
       "      <td>(LOTR1, Sixth Sense)</td>\n",
       "      <td>(Harry Potter1, LOTR2)</td>\n",
       "      <td>0.1</td>\n",
       "      <td>0.1</td>\n",
       "      <td>0.1</td>\n",
       "      <td>1.0</td>\n",
       "      <td>10.0</td>\n",
       "      <td>0.09</td>\n",
       "      <td>inf</td>\n",
       "      <td>1.0</td>\n",
       "    </tr>\n",
       "    <tr>\n",
       "      <th>9</th>\n",
       "      <td>(LOTR2, Sixth Sense)</td>\n",
       "      <td>(Harry Potter1, LOTR1)</td>\n",
       "      <td>0.1</td>\n",
       "      <td>0.1</td>\n",
       "      <td>0.1</td>\n",
       "      <td>1.0</td>\n",
       "      <td>10.0</td>\n",
       "      <td>0.09</td>\n",
       "      <td>inf</td>\n",
       "      <td>1.0</td>\n",
       "    </tr>\n",
       "  </tbody>\n",
       "</table>\n",
       "</div>"
      ],
      "text/plain": [
       "                            antecedents                           consequents  \\\n",
       "0               (Gladiator, Green Mile)                                (LOTR)   \n",
       "1                                (LOTR)               (Gladiator, Green Mile)   \n",
       "2  (Gladiator, Green Mile, Sixth Sense)                                (LOTR)   \n",
       "3               (Gladiator, Green Mile)                   (Sixth Sense, LOTR)   \n",
       "4                   (Sixth Sense, LOTR)               (Gladiator, Green Mile)   \n",
       "5                                (LOTR)  (Gladiator, Green Mile, Sixth Sense)   \n",
       "6                (Harry Potter1, LOTR1)                  (LOTR2, Sixth Sense)   \n",
       "7                (Harry Potter1, LOTR2)                  (LOTR1, Sixth Sense)   \n",
       "8                  (LOTR1, Sixth Sense)                (Harry Potter1, LOTR2)   \n",
       "9                  (LOTR2, Sixth Sense)                (Harry Potter1, LOTR1)   \n",
       "\n",
       "   antecedent support  consequent support  support  confidence  lift  \\\n",
       "0                 0.1                 0.1      0.1         1.0  10.0   \n",
       "1                 0.1                 0.1      0.1         1.0  10.0   \n",
       "2                 0.1                 0.1      0.1         1.0  10.0   \n",
       "3                 0.1                 0.1      0.1         1.0  10.0   \n",
       "4                 0.1                 0.1      0.1         1.0  10.0   \n",
       "5                 0.1                 0.1      0.1         1.0  10.0   \n",
       "6                 0.1                 0.1      0.1         1.0  10.0   \n",
       "7                 0.1                 0.1      0.1         1.0  10.0   \n",
       "8                 0.1                 0.1      0.1         1.0  10.0   \n",
       "9                 0.1                 0.1      0.1         1.0  10.0   \n",
       "\n",
       "   leverage  conviction  zhangs_metric  \n",
       "0      0.09         inf            1.0  \n",
       "1      0.09         inf            1.0  \n",
       "2      0.09         inf            1.0  \n",
       "3      0.09         inf            1.0  \n",
       "4      0.09         inf            1.0  \n",
       "5      0.09         inf            1.0  \n",
       "6      0.09         inf            1.0  \n",
       "7      0.09         inf            1.0  \n",
       "8      0.09         inf            1.0  \n",
       "9      0.09         inf            1.0  "
      ]
     },
     "execution_count": 32,
     "metadata": {},
     "output_type": "execute_result"
    }
   ],
   "source": [
    "# creating a subset of first 10 rules which will be plotted with heatmap\n",
    "rules_10=rules_map.iloc[0:10,:]\n",
    "rules_10"
   ]
  },
  {
   "cell_type": "code",
   "execution_count": 33,
   "id": "6428127a",
   "metadata": {},
   "outputs": [
    {
     "name": "stderr",
     "output_type": "stream",
     "text": [
      "C:\\Users\\91771\\AppData\\Local\\Temp\\ipykernel_13360\\2780928418.py:2: SettingWithCopyWarning: \n",
      "A value is trying to be set on a copy of a slice from a DataFrame.\n",
      "Try using .loc[row_indexer,col_indexer] = value instead\n",
      "\n",
      "See the caveats in the documentation: https://pandas.pydata.org/pandas-docs/stable/user_guide/indexing.html#returning-a-view-versus-a-copy\n",
      "  rules_10['antecedents']=rules_10['antecedents'].apply(lambda a: ','.join(list(a)))\n",
      "C:\\Users\\91771\\AppData\\Local\\Temp\\ipykernel_13360\\2780928418.py:3: SettingWithCopyWarning: \n",
      "A value is trying to be set on a copy of a slice from a DataFrame.\n",
      "Try using .loc[row_indexer,col_indexer] = value instead\n",
      "\n",
      "See the caveats in the documentation: https://pandas.pydata.org/pandas-docs/stable/user_guide/indexing.html#returning-a-view-versus-a-copy\n",
      "  rules_10['consequents']=rules_10['consequents'].apply(lambda a: ','.join(list(a)))\n"
     ]
    }
   ],
   "source": [
    "# converting antecedents and consequents to strings\n",
    "rules_10['antecedents']=rules_10['antecedents'].apply(lambda a: ','.join(list(a)))\n",
    "rules_10['consequents']=rules_10['consequents'].apply(lambda a: ','.join(list(a)))\n"
   ]
  },
  {
   "cell_type": "code",
   "execution_count": 34,
   "id": "470d8bab",
   "metadata": {},
   "outputs": [
    {
     "name": "stdout",
     "output_type": "stream",
     "text": [
      "                        antecedents                       consequents\n",
      "0              Gladiator,Green Mile                              LOTR\n",
      "1                              LOTR              Gladiator,Green Mile\n",
      "2  Gladiator,Green Mile,Sixth Sense                              LOTR\n",
      "3              Gladiator,Green Mile                  Sixth Sense,LOTR\n",
      "4                  Sixth Sense,LOTR              Gladiator,Green Mile\n",
      "5                              LOTR  Gladiator,Green Mile,Sixth Sense\n",
      "6               Harry Potter1,LOTR1                 LOTR2,Sixth Sense\n",
      "7               Harry Potter1,LOTR2                 LOTR1,Sixth Sense\n",
      "8                 LOTR1,Sixth Sense               Harry Potter1,LOTR2\n",
      "9                 LOTR2,Sixth Sense               Harry Potter1,LOTR1\n"
     ]
    }
   ],
   "source": [
    "print(rules_10[['antecedents','consequents']])\n"
   ]
  },
  {
   "cell_type": "code",
   "execution_count": 35,
   "id": "000a3efc",
   "metadata": {},
   "outputs": [],
   "source": [
    "# Constructing  pivot table\n",
    "pvt_table1=rules_10.pivot(index='antecedents',columns='consequents',values='support')\n",
    "pvt_table2=rules_10.pivot(index='antecedents',columns='consequents',values='confidence')\n",
    "pvt_table3=rules_10.pivot(index='antecedents',columns='consequents',values='lift')\n"
   ]
  },
  {
   "cell_type": "code",
   "execution_count": 36,
   "id": "a670b272",
   "metadata": {},
   "outputs": [
    {
     "data": {
      "image/png": "[encoded data removed]",
      "text/plain": [
       "<Figure size 800x1200 with 3 Axes>"
      ]
     },
     "metadata": {},
     "output_type": "display_data"
    }
   ],
   "source": [
    "fig, axes = plt.subplots(3,1,sharex=True,constrained_layout = True,figsize=(8,12))\n",
    "fig.suptitle('Heatmaps')\n",
    "\n",
    "sns.heatmap(ax=axes[0],data=pvt_table1,annot=True,cbar=False,cmap='Blues')\n",
    "axes[0].set_title('Support')\n",
    "axes[0].set(xlabel=None)\n",
    "axes[0].set(ylabel=None)\n",
    "\n",
    "sns.heatmap(ax=axes[1],data=pvt_table2,annot=True,cbar=False,cmap='Blues')\n",
    "axes[1].set_title('Confidence')\n",
    "axes[1].set(xlabel=None)\n",
    "\n",
    "sns.heatmap(ax=axes[2],data=pvt_table3,annot=True,cbar=False,cmap='Blues')\n",
    "axes[2].set_title('Lift')\n",
    "axes[2].set(ylabel=None)\n",
    "\n",
    "\n",
    "plt.show()"
   ]
  },
  {
   "cell_type": "markdown",
   "id": "fe2bf495",
   "metadata": {},
   "source": [
    "# 3) Parallel coordinate plots"
   ]
  },
  {
   "cell_type": "code",
   "execution_count": 37,
   "id": "73d6193d",
   "metadata": {},
   "outputs": [
    {
     "data": {
      "text/html": [
       "<div>\n",
       "<style scoped>\n",
       "    .dataframe tbody tr th:only-of-type {\n",
       "        vertical-align: middle;\n",
       "    }\n",
       "\n",
       "    .dataframe tbody tr th {\n",
       "        vertical-align: top;\n",
       "    }\n",
       "\n",
       "    .dataframe thead th {\n",
       "        text-align: right;\n",
       "    }\n",
       "</style>\n",
       "<table border=\"1\" class=\"dataframe\">\n",
       "  <thead>\n",
       "    <tr style=\"text-align: right;\">\n",
       "      <th></th>\n",
       "      <th>antecedents</th>\n",
       "      <th>consequents</th>\n",
       "      <th>antecedent support</th>\n",
       "      <th>consequent support</th>\n",
       "      <th>support</th>\n",
       "      <th>confidence</th>\n",
       "      <th>lift</th>\n",
       "      <th>leverage</th>\n",
       "      <th>conviction</th>\n",
       "      <th>zhangs_metric</th>\n",
       "    </tr>\n",
       "  </thead>\n",
       "  <tbody>\n",
       "    <tr>\n",
       "      <th>0</th>\n",
       "      <td>Gladiator,Green Mile</td>\n",
       "      <td>LOTR</td>\n",
       "      <td>0.1</td>\n",
       "      <td>0.1</td>\n",
       "      <td>0.1</td>\n",
       "      <td>1.0</td>\n",
       "      <td>10.0</td>\n",
       "      <td>0.09</td>\n",
       "      <td>inf</td>\n",
       "      <td>1.0</td>\n",
       "    </tr>\n",
       "    <tr>\n",
       "      <th>1</th>\n",
       "      <td>LOTR</td>\n",
       "      <td>Gladiator,Green Mile</td>\n",
       "      <td>0.1</td>\n",
       "      <td>0.1</td>\n",
       "      <td>0.1</td>\n",
       "      <td>1.0</td>\n",
       "      <td>10.0</td>\n",
       "      <td>0.09</td>\n",
       "      <td>inf</td>\n",
       "      <td>1.0</td>\n",
       "    </tr>\n",
       "    <tr>\n",
       "      <th>2</th>\n",
       "      <td>Gladiator,Green Mile,Sixth Sense</td>\n",
       "      <td>LOTR</td>\n",
       "      <td>0.1</td>\n",
       "      <td>0.1</td>\n",
       "      <td>0.1</td>\n",
       "      <td>1.0</td>\n",
       "      <td>10.0</td>\n",
       "      <td>0.09</td>\n",
       "      <td>inf</td>\n",
       "      <td>1.0</td>\n",
       "    </tr>\n",
       "    <tr>\n",
       "      <th>3</th>\n",
       "      <td>Gladiator,Green Mile</td>\n",
       "      <td>Sixth Sense,LOTR</td>\n",
       "      <td>0.1</td>\n",
       "      <td>0.1</td>\n",
       "      <td>0.1</td>\n",
       "      <td>1.0</td>\n",
       "      <td>10.0</td>\n",
       "      <td>0.09</td>\n",
       "      <td>inf</td>\n",
       "      <td>1.0</td>\n",
       "    </tr>\n",
       "    <tr>\n",
       "      <th>4</th>\n",
       "      <td>Sixth Sense,LOTR</td>\n",
       "      <td>Gladiator,Green Mile</td>\n",
       "      <td>0.1</td>\n",
       "      <td>0.1</td>\n",
       "      <td>0.1</td>\n",
       "      <td>1.0</td>\n",
       "      <td>10.0</td>\n",
       "      <td>0.09</td>\n",
       "      <td>inf</td>\n",
       "      <td>1.0</td>\n",
       "    </tr>\n",
       "    <tr>\n",
       "      <th>5</th>\n",
       "      <td>LOTR</td>\n",
       "      <td>Gladiator,Green Mile,Sixth Sense</td>\n",
       "      <td>0.1</td>\n",
       "      <td>0.1</td>\n",
       "      <td>0.1</td>\n",
       "      <td>1.0</td>\n",
       "      <td>10.0</td>\n",
       "      <td>0.09</td>\n",
       "      <td>inf</td>\n",
       "      <td>1.0</td>\n",
       "    </tr>\n",
       "    <tr>\n",
       "      <th>6</th>\n",
       "      <td>Harry Potter1,LOTR1</td>\n",
       "      <td>LOTR2,Sixth Sense</td>\n",
       "      <td>0.1</td>\n",
       "      <td>0.1</td>\n",
       "      <td>0.1</td>\n",
       "      <td>1.0</td>\n",
       "      <td>10.0</td>\n",
       "      <td>0.09</td>\n",
       "      <td>inf</td>\n",
       "      <td>1.0</td>\n",
       "    </tr>\n",
       "    <tr>\n",
       "      <th>7</th>\n",
       "      <td>Harry Potter1,LOTR2</td>\n",
       "      <td>LOTR1,Sixth Sense</td>\n",
       "      <td>0.1</td>\n",
       "      <td>0.1</td>\n",
       "      <td>0.1</td>\n",
       "      <td>1.0</td>\n",
       "      <td>10.0</td>\n",
       "      <td>0.09</td>\n",
       "      <td>inf</td>\n",
       "      <td>1.0</td>\n",
       "    </tr>\n",
       "    <tr>\n",
       "      <th>8</th>\n",
       "      <td>LOTR1,Sixth Sense</td>\n",
       "      <td>Harry Potter1,LOTR2</td>\n",
       "      <td>0.1</td>\n",
       "      <td>0.1</td>\n",
       "      <td>0.1</td>\n",
       "      <td>1.0</td>\n",
       "      <td>10.0</td>\n",
       "      <td>0.09</td>\n",
       "      <td>inf</td>\n",
       "      <td>1.0</td>\n",
       "    </tr>\n",
       "    <tr>\n",
       "      <th>9</th>\n",
       "      <td>LOTR2,Sixth Sense</td>\n",
       "      <td>Harry Potter1,LOTR1</td>\n",
       "      <td>0.1</td>\n",
       "      <td>0.1</td>\n",
       "      <td>0.1</td>\n",
       "      <td>1.0</td>\n",
       "      <td>10.0</td>\n",
       "      <td>0.09</td>\n",
       "      <td>inf</td>\n",
       "      <td>1.0</td>\n",
       "    </tr>\n",
       "  </tbody>\n",
       "</table>\n",
       "</div>"
      ],
      "text/plain": [
       "                        antecedents                       consequents  \\\n",
       "0              Gladiator,Green Mile                              LOTR   \n",
       "1                              LOTR              Gladiator,Green Mile   \n",
       "2  Gladiator,Green Mile,Sixth Sense                              LOTR   \n",
       "3              Gladiator,Green Mile                  Sixth Sense,LOTR   \n",
       "4                  Sixth Sense,LOTR              Gladiator,Green Mile   \n",
       "5                              LOTR  Gladiator,Green Mile,Sixth Sense   \n",
       "6               Harry Potter1,LOTR1                 LOTR2,Sixth Sense   \n",
       "7               Harry Potter1,LOTR2                 LOTR1,Sixth Sense   \n",
       "8                 LOTR1,Sixth Sense               Harry Potter1,LOTR2   \n",
       "9                 LOTR2,Sixth Sense               Harry Potter1,LOTR1   \n",
       "\n",
       "   antecedent support  consequent support  support  confidence  lift  \\\n",
       "0                 0.1                 0.1      0.1         1.0  10.0   \n",
       "1                 0.1                 0.1      0.1         1.0  10.0   \n",
       "2                 0.1                 0.1      0.1         1.0  10.0   \n",
       "3                 0.1                 0.1      0.1         1.0  10.0   \n",
       "4                 0.1                 0.1      0.1         1.0  10.0   \n",
       "5                 0.1                 0.1      0.1         1.0  10.0   \n",
       "6                 0.1                 0.1      0.1         1.0  10.0   \n",
       "7                 0.1                 0.1      0.1         1.0  10.0   \n",
       "8                 0.1                 0.1      0.1         1.0  10.0   \n",
       "9                 0.1                 0.1      0.1         1.0  10.0   \n",
       "\n",
       "   leverage  conviction  zhangs_metric  \n",
       "0      0.09         inf            1.0  \n",
       "1      0.09         inf            1.0  \n",
       "2      0.09         inf            1.0  \n",
       "3      0.09         inf            1.0  \n",
       "4      0.09         inf            1.0  \n",
       "5      0.09         inf            1.0  \n",
       "6      0.09         inf            1.0  \n",
       "7      0.09         inf            1.0  \n",
       "8      0.09         inf            1.0  \n",
       "9      0.09         inf            1.0  "
      ]
     },
     "execution_count": 37,
     "metadata": {},
     "output_type": "execute_result"
    }
   ],
   "source": [
    "rules_10"
   ]
  },
  {
   "cell_type": "code",
   "execution_count": 40,
   "id": "b7639ebd",
   "metadata": {},
   "outputs": [
    {
     "name": "stderr",
     "output_type": "stream",
     "text": [
      "C:\\Users\\91771\\AppData\\Local\\Temp\\ipykernel_13360\\2163244840.py:2: SettingWithCopyWarning: \n",
      "A value is trying to be set on a copy of a slice from a DataFrame.\n",
      "Try using .loc[row_indexer,col_indexer] = value instead\n",
      "\n",
      "See the caveats in the documentation: https://pandas.pydata.org/pandas-docs/stable/user_guide/indexing.html#returning-a-view-versus-a-copy\n",
      "  rules_10['rule']=np.arange(1,11)\n"
     ]
    },
    {
     "data": {
      "text/html": [
       "<div>\n",
       "<style scoped>\n",
       "    .dataframe tbody tr th:only-of-type {\n",
       "        vertical-align: middle;\n",
       "    }\n",
       "\n",
       "    .dataframe tbody tr th {\n",
       "        vertical-align: top;\n",
       "    }\n",
       "\n",
       "    .dataframe thead th {\n",
       "        text-align: right;\n",
       "    }\n",
       "</style>\n",
       "<table border=\"1\" class=\"dataframe\">\n",
       "  <thead>\n",
       "    <tr style=\"text-align: right;\">\n",
       "      <th></th>\n",
       "      <th>antecedents</th>\n",
       "      <th>consequents</th>\n",
       "      <th>rule</th>\n",
       "    </tr>\n",
       "  </thead>\n",
       "  <tbody>\n",
       "    <tr>\n",
       "      <th>0</th>\n",
       "      <td>Gladiator,Green Mile</td>\n",
       "      <td>LOTR</td>\n",
       "      <td>1</td>\n",
       "    </tr>\n",
       "    <tr>\n",
       "      <th>1</th>\n",
       "      <td>LOTR</td>\n",
       "      <td>Gladiator,Green Mile</td>\n",
       "      <td>2</td>\n",
       "    </tr>\n",
       "    <tr>\n",
       "      <th>2</th>\n",
       "      <td>Gladiator,Green Mile,Sixth Sense</td>\n",
       "      <td>LOTR</td>\n",
       "      <td>3</td>\n",
       "    </tr>\n",
       "    <tr>\n",
       "      <th>3</th>\n",
       "      <td>Gladiator,Green Mile</td>\n",
       "      <td>Sixth Sense,LOTR</td>\n",
       "      <td>4</td>\n",
       "    </tr>\n",
       "    <tr>\n",
       "      <th>4</th>\n",
       "      <td>Sixth Sense,LOTR</td>\n",
       "      <td>Gladiator,Green Mile</td>\n",
       "      <td>5</td>\n",
       "    </tr>\n",
       "    <tr>\n",
       "      <th>5</th>\n",
       "      <td>LOTR</td>\n",
       "      <td>Gladiator,Green Mile,Sixth Sense</td>\n",
       "      <td>6</td>\n",
       "    </tr>\n",
       "    <tr>\n",
       "      <th>6</th>\n",
       "      <td>Harry Potter1,LOTR1</td>\n",
       "      <td>LOTR2,Sixth Sense</td>\n",
       "      <td>7</td>\n",
       "    </tr>\n",
       "    <tr>\n",
       "      <th>7</th>\n",
       "      <td>Harry Potter1,LOTR2</td>\n",
       "      <td>LOTR1,Sixth Sense</td>\n",
       "      <td>8</td>\n",
       "    </tr>\n",
       "    <tr>\n",
       "      <th>8</th>\n",
       "      <td>LOTR1,Sixth Sense</td>\n",
       "      <td>Harry Potter1,LOTR2</td>\n",
       "      <td>9</td>\n",
       "    </tr>\n",
       "    <tr>\n",
       "      <th>9</th>\n",
       "      <td>LOTR2,Sixth Sense</td>\n",
       "      <td>Harry Potter1,LOTR1</td>\n",
       "      <td>10</td>\n",
       "    </tr>\n",
       "  </tbody>\n",
       "</table>\n",
       "</div>"
      ],
      "text/plain": [
       "                        antecedents                       consequents  rule\n",
       "0              Gladiator,Green Mile                              LOTR     1\n",
       "1                              LOTR              Gladiator,Green Mile     2\n",
       "2  Gladiator,Green Mile,Sixth Sense                              LOTR     3\n",
       "3              Gladiator,Green Mile                  Sixth Sense,LOTR     4\n",
       "4                  Sixth Sense,LOTR              Gladiator,Green Mile     5\n",
       "5                              LOTR  Gladiator,Green Mile,Sixth Sense     6\n",
       "6               Harry Potter1,LOTR1                 LOTR2,Sixth Sense     7\n",
       "7               Harry Potter1,LOTR2                 LOTR1,Sixth Sense     8\n",
       "8                 LOTR1,Sixth Sense               Harry Potter1,LOTR2     9\n",
       "9                 LOTR2,Sixth Sense               Harry Potter1,LOTR1    10"
      ]
     },
     "execution_count": 40,
     "metadata": {},
     "output_type": "execute_result"
    }
   ],
   "source": [
    "# creating a column called rules to store rule numbers\n",
    "rules_10['rule']=np.arange(1,11)\n",
    "data=rules_10.iloc[:,[0,1,10]]\n",
    "data"
   ]
  },
  {
   "cell_type": "code",
   "execution_count": 41,
   "id": "1c1d92fc",
   "metadata": {},
   "outputs": [
    {
     "data": {
      "text/plain": [
       "<AxesSubplot:>"
      ]
     },
     "execution_count": 41,
     "metadata": {},
     "output_type": "execute_result"
    },
    {
     "data": {
      "image/png": "[encoded data removed]",
      "text/plain": [
       "<Figure size 800x1000 with 1 Axes>"
      ]
     },
     "metadata": {},
     "output_type": "display_data"
    }
   ],
   "source": [
    "from pandas.plotting import parallel_coordinates\n",
    "plt.figure(figsize=(8,10))\n",
    "parallel_coordinates(data,'rule',colormap='Blues')\n"
   ]
  },
  {
   "cell_type": "code",
   "execution_count": null,
   "id": "744d6bc5",
   "metadata": {},
   "outputs": [],
   "source": []
  }
 ],
 "metadata": {
  "kernelspec": {
   "display_name": "Python 3 (ipykernel)",
   "language": "python",
   "name": "python3"
  },
  "language_info": {
   "codemirror_mode": {
    "name": "ipython",
    "version": 3
   },
   "file_extension": ".py",
   "mimetype": "text/x-python",
   "name": "python",
   "nbconvert_exporter": "python",
   "pygments_lexer": "ipython3",
   "version": "3.9.13"
  }
 },
 "nbformat": 4,
 "nbformat_minor": 5
}
